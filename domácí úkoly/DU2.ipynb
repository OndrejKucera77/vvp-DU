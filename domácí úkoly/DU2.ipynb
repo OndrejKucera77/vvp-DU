{
 "cells": [
  {
   "attachments": {},
   "cell_type": "markdown",
   "metadata": {},
   "source": [
    "# Domácí úkol:\n",
    "Pomocí vlastních tříd a dědičnosti vytvořte \"soubor tříd\" = nástroj pro derivaci funkcí.\n",
    "\n",
    "## Jak to má fungovat:\n",
    "\n",
    "- derivace je jednoduše algoritmizovatelná, neboť se řídí prakticky pouze třemi pravidly (podílu se dá vyhnout pomocí násobení funkcí $\\frac{1}{f(x)}$):\n",
    "    - derivace součtu je součet derivací\n",
    "    - pravidlo pro derivaci součinu\n",
    "    - derivace funkce je derivovaná funkce násobená derivovaným argumentem\n",
    "\n",
    "- tedy stačí implementovat tyto tři základní pravidla a pro každou elementární funkci (sin, cos, exp, ln, x^n, ...) vědět jak vypadá její derivace\n",
    "- celý tento proces je možné reprezentovat pomocí tříd a dědičnosti\n",
    "- trik je v tom, že se výrazy automaticky skládají do stromu (pro nás v podstatě skrytého), a tedy každý výraz je na venek pouze buď sčítání, násobení, nebo elementární funkce (a o jejich argumentech platí totéž)\n",
    "\n",
    "## Podrobnější zadání:\n",
    "Konkrétněji:\n",
    "- Vytvořte třídu **Operator**\n",
    "    - Třída bude mít metody:\n",
    "        - `__init__()` - inicializuje operátor (zde stačí `pass`)\n",
    "        - `__str__()` - vrací řetězec reprezentující operátor\n",
    "        - `__repr__()` - vrací řetězec reprezentující operátor\n",
    "- Vytvořte třídu **BinaryOperator**, která bude dědit od třídy Operator\n",
    "    - Třída bude mít atributy:\n",
    "        - `levy_argument` - levý operand\n",
    "        - `pravy_argument` - pravý operand\n",
    "    - Třída bude mít metody:\n",
    "        - `__init__()` - inicializuje operátor, přiřadí argumenty\n",
    "        - `__str__()` - vrací řetězec reprezentující operátor\n",
    "        - `__repr__()` - vrací řetězec reprezentující operátor\n",
    "        - `diff()` - vrací derivaci operátoru\n",
    "- Vytvořte třídu **UnaryOperator**, která bude dědit od třídy Operator\n",
    "    - Třída bude mít atributy:\n",
    "        - `argument` - argument funkce \n",
    "    - Třída bude mít metody:\n",
    "        - `__init__()` - inicializuje operátor, přiřadí argument\n",
    "        - `__str__()` - vrací řetězec reprezentující operátor\n",
    "        - `__repr__()` - vrací řetězec reprezentující operátor\n",
    "        - `diff()` - vrací derivaci operátoru\n",
    "\n",
    "Pro počítání derivací použijte standardní pravidla:\n",
    "- derivace součtu je součet derivací\n",
    "- pravidlo pro derivaci součinu\n",
    "- derivace funkce je derivovaná funkce násobená derivovaným argumentem\n",
    "\n",
    "Pro **BinaryOperator** a **UnaryOperator** implementujte také metody implementující standardní operátory:\n",
    "- `__add__()` - implementuje operátor `+`\n",
    "- `__sub__()` - implementuje operátor `-`\n",
    "- `__mul__()` - implementuje operátor `*`\n",
    "\n",
    "Pro **BinaryOperator** implementujte dvě dceřiné třídy:\n",
    "- **Addition** - implementuje operátor `+`\n",
    "- **Multiplication** - implementuje operátor `*`\n",
    "\n",
    "Pro **UnaryOperator** implementujte tyto dceřiné třídy:\n",
    "- **exp** - implementuje funkci `exp`\n",
    "- **sin** - implementuje funkci `sin`\n",
    "- **cos** - implementuje funkci `cos`\n",
    "- **ln** - implementuje funkci `ln`\n",
    "- **frc** - implementuje funkci `1/x`\n",
    "- **identity** - implementuje identitu `x`\n",
    "- **cst** - implementuje konstantu `c`\n",
    "- **mocnina** - implementuje mocninu `x^n`\n",
    "\n",
    "U všech funckí implementujte adekvátně metodu `diff()` a `__str__()`, tak aby se funkce vypisovaly v přehledné podobě.\n",
    "\n",
    "Ozkoušejte na následujících funkcích:\n",
    "- $sin(x + cos(x*x)) + 1$\n",
    "- $x^2 + 2x + 1 + 2x^2$\n",
    "- $x^2 + 2x + exp(x)$"
   ]
  },
  {
   "cell_type": "code",
   "execution_count": 70,
   "metadata": {},
   "outputs": [],
   "source": [
    "# kostra k doplnění, místa označená TODO doplňte\n",
    "\n",
    "class Operator:\n",
    "    def __init__(self):\n",
    "        pass\n",
    "    \n",
    "    def __str__(self):\n",
    "        return type(self).__name__\n",
    "    \n",
    "    def __repr__(self):\n",
    "        return self.__str__()\n",
    "    \n",
    "    def diff(self):\n",
    "        pass\n",
    "\n",
    "    def simplify(self):\n",
    "        return self\n",
    "    \n",
    "    def __add__(self, other):\n",
    "        if type(other) == int or type(other) == float:\n",
    "            other = cst(other)\n",
    "        return Addition(self, other)\n",
    "    \n",
    "    def __radd__(self, other):\n",
    "        if type(other) == int or type(other) == float:\n",
    "            other = cst(other)\n",
    "        return Addition(other, self)\n",
    "    \n",
    "    def __sub__(self, other):\n",
    "        if type(other) == int or type(other) == float:\n",
    "            other = cst(other)\n",
    "        return Addition(self, Multiplication(cst(-1), other))\n",
    "    \n",
    "    def __rsub__(self, other):\n",
    "        if type(other) == int or type(other) == float:\n",
    "            other = cst(other)\n",
    "        return Addition(Multiplication(cst(-1), other), self)\n",
    "    \n",
    "    def __mul__(self, other):\n",
    "        if type(other) == int or type(other) == float:\n",
    "            other = cst(other)\n",
    "        return Multiplication(self, other)\n",
    "    \n",
    "    def __rmul__(self, other):\n",
    "        if type(other) == int or type(other) == float:\n",
    "            other = cst(other)\n",
    "        return Multiplication(other, self)\n",
    "    \n",
    "class BinaryOperator(Operator):\n",
    "    def __init__(self, levy_argument, pravy_argument):\n",
    "        self.levy_argument = levy_argument\n",
    "        self.pravy_argument = pravy_argument\n",
    "        \n",
    "class UnaryOperator(Operator):\n",
    "    def __init__(self, argument):\n",
    "        self.argument = argument\n",
    "    \n",
    "    def __str__(self):\n",
    "        return type(self).__name__ + \"(\" + str(self.argument) + \")\"\n",
    "        \n",
    "class Addition(BinaryOperator):\n",
    "    def __str__(self):\n",
    "        return str(f\"{self.levy_argument} + {self.pravy_argument}\")\n",
    "    def diff(self):\n",
    "        return Addition(self.levy_argument.diff(), self.pravy_argument.diff()).simplify()\n",
    "    def simplify(self):\n",
    "        nula = str(cst(0))\n",
    "        self.levy_argument = self.levy_argument.simplify()\n",
    "        self.pravy_argument = self.pravy_argument.simplify()\n",
    "        if str(self.levy_argument) == nula:\n",
    "            return self.pravy_argument\n",
    "        elif str(self.pravy_argument) == nula:\n",
    "            return self.levy_argument\n",
    "        elif type(self.levy_argument) == cst and type(self.pravy_argument) == cst:\n",
    "            return cst(int(str(self.levy_argument)) + int(str(self.pravy_argument)))\n",
    "        else:\n",
    "            return self\n",
    "\n",
    "class Multiplication(BinaryOperator):\n",
    "    def __str__(self):\n",
    "        return str(f\"({self.levy_argument})*({self.pravy_argument})\")\n",
    "    def diff(self):\n",
    "        return Addition(Multiplication(self.levy_argument.diff(), self.pravy_argument), Multiplication(self.levy_argument, self.pravy_argument.diff())).simplify()\n",
    "    def simplify(self):\n",
    "        nula = str(cst(0))\n",
    "        jedna = str(cst(1))\n",
    "        self.levy_argument = self.levy_argument.simplify()\n",
    "        self.pravy_argument = self.pravy_argument.simplify()\n",
    "        if str(self.levy_argument) == jedna:\n",
    "            return self.pravy_argument\n",
    "        elif str(self.pravy_argument) == jedna:\n",
    "            return self.levy_argument\n",
    "        elif str(self.levy_argument) == nula or str(self.pravy_argument) == nula:\n",
    "            return cst(0)\n",
    "        elif str(self.levy_argument) == str(self.pravy_argument):\n",
    "            return mocnina(self.levy_argument, cst(2))\n",
    "        elif type(self.levy_argument) == cst and type(self.pravy_argument) == cst:\n",
    "            return cst(int(str(self.levy_argument)) * int(str(self.pravy_argument)))\n",
    "        else:\n",
    "            return self\n",
    "    \n",
    "class cst(UnaryOperator):\n",
    "    def __init__(self, value):\n",
    "        self.value = value\n",
    "    def __str__(self):\n",
    "        return str(self.value)\n",
    "    def diff(self):\n",
    "        return cst(0)\n",
    "    \n",
    "class identity(UnaryOperator):\n",
    "    def __init__(self):\n",
    "        pass\n",
    "    def __str__(self):\n",
    "        return \"x\"\n",
    "    def diff(self):\n",
    "        return cst(1)\n",
    "    \n",
    "class mocnina(UnaryOperator):\n",
    "    def __init__(self, argument, exponent):\n",
    "        self.argument = argument\n",
    "        self.exponent = exponent\n",
    "    def __str__(self):\n",
    "        return str(f\"({self.argument})^{self.exponent}\")\n",
    "    def diff(self):\n",
    "        return Multiplication(Multiplication(cst(self.exponent), mocnina(self.argument, self.exponent - 1)), self.argument.diff()).simplify()\n",
    "    def simplify(self):\n",
    "        nula = str(cst(0))\n",
    "        jedna = str(cst(1))\n",
    "        self.argument = self.argument.simplify()\n",
    "        if str(self.exponent) == nula:\n",
    "            return cst(1)\n",
    "        elif str(self.exponent) == jedna:\n",
    "            return self.argument\n",
    "        elif str(self.argument) == nula:\n",
    "            return cst(0)\n",
    "        else:\n",
    "            return self\n",
    "    \n",
    "class sin(UnaryOperator):\n",
    "    def diff(self):\n",
    "        return Multiplication(cos(self.argument), self.argument.diff()).simplify()\n",
    "\n",
    "class cos(UnaryOperator):\n",
    "    def diff(self):\n",
    "        return Multiplication(cst(-1), Multiplication(cos(self.argument), self.argument.diff())).simplify()\n",
    "\n",
    "class exp(UnaryOperator):\n",
    "    def diff(self):\n",
    "        return Multiplication(self, self.argument.diff()).simplify()\n",
    "    \n",
    "class ln(UnaryOperator):\n",
    "    def diff(self):\n",
    "        return Multiplication(mocnina(self.argument, cst(-1)), self.argument.diff()).simplify()\n",
    "\n",
    "class frc(UnaryOperator):\n",
    "    def __str__(self):\n",
    "        return str(f\"1/({self.argument})\")\n",
    "    def diff(self):\n",
    "        return Multiplication(Multiplication(cst(-1), frc(mocnina(self.argument, 2))), self.argument.diff()).simplify()"
   ]
  },
  {
   "cell_type": "code",
   "execution_count": 49,
   "metadata": {},
   "outputs": [
    {
     "name": "stdout",
     "output_type": "stream",
     "text": [
      "sin(x + cos((x)*(x))) + 1\n",
      "(cos(x + cos((x)*(x))))*(1 + (-1)*((cos((x)*(x)))*(x + x)))\n"
     ]
    }
   ],
   "source": [
    "# takto by se to mělo používat\n",
    "x = identity()\n",
    "# sin(x + cos(x*x)) + 1\n",
    "f1 = sin(x + cos(x*x)) + cst(1)\n",
    "print(f1)\n",
    "print(f1.diff())"
   ]
  },
  {
   "attachments": {},
   "cell_type": "markdown",
   "metadata": {},
   "source": [
    "můj výstup byl:\n",
    "\n",
    "`sin(x + cos((x)*(x))) + 1`\n",
    "\n",
    "`(cos(x + cos((x)*(x))))*(1 + ((-1)*(sin((x)*(x))))*((1)*(x) + (x)*(1))) + 0`"
   ]
  },
  {
   "cell_type": "code",
   "execution_count": 74,
   "metadata": {},
   "outputs": [
    {
     "name": "stdout",
     "output_type": "stream",
     "text": [
      "(x)^2 + (2)*(x) + 1 + (2)*((x)^2)\n",
      "(2)*(x) + 2 + (2)*((2)*(x))\n"
     ]
    }
   ],
   "source": [
    "x = identity()\n",
    "# x ^ 2 + 2x + 1 + 2x ^ 2\n",
    "f2 = mocnina(x,2) + cst(2)*x + cst(1) + cst(2)*mocnina(x,2)\n",
    "print(f2)\n",
    "print(f2.diff())\n"
   ]
  },
  {
   "attachments": {},
   "cell_type": "markdown",
   "metadata": {},
   "source": [
    "můj výstup byl:\n",
    "\n",
    "`(x)^2 + (2)*(x) + 1 + (2)*((x)^2)`\n",
    "\n",
    "`((2)*((x)^1))*(1) + (0)*(x) + (2)*(1) + 0 + (0)*((x)^2) + (2)*(((2)*((x)^1))*(1))`"
   ]
  },
  {
   "cell_type": "code",
   "execution_count": 51,
   "metadata": {},
   "outputs": [
    {
     "name": "stdout",
     "output_type": "stream",
     "text": [
      "(x)^2 + (2)*(x) + exp(x)\n",
      "(2)*(x) + 2 + exp(x)\n"
     ]
    }
   ],
   "source": [
    "x = identity()\n",
    "# x ^ 2 + 2x + exp(x)\n",
    "f3 = mocnina(x,2) + cst(2)*x + exp(x)\n",
    "print(f3)\n",
    "print(f3.diff())\n"
   ]
  },
  {
   "attachments": {},
   "cell_type": "markdown",
   "metadata": {},
   "source": [
    "můj výstup byl:\n",
    "\n",
    "`(x)^2 + (2)*(x) + exp(x)`\n",
    "\n",
    "`((2)*((x)^1))*(1) + (0)*(x) + (2)*(1) + (exp(x))*(1)`\n"
   ]
  },
  {
   "cell_type": "code",
   "execution_count": 52,
   "metadata": {},
   "outputs": [
    {
     "name": "stdout",
     "output_type": "stream",
     "text": [
      "ln(exp(x))\n",
      "((exp(x))^-1)*(exp(x))\n"
     ]
    }
   ],
   "source": [
    "# ln(exp(x))\n",
    "f4 = ln(exp(x))\n",
    "print(f4)\n",
    "print(f4.diff())"
   ]
  },
  {
   "cell_type": "code",
   "execution_count": 80,
   "metadata": {},
   "outputs": [
    {
     "name": "stdout",
     "output_type": "stream",
     "text": [
      "((x)^2 + 1)*((x)^2 + -1)\n",
      "((2)*(x))*((x)^2 + -1) + ((x)^2 + 1)*((2)*(x))\n"
     ]
    }
   ],
   "source": [
    "# (x^2 + 1) / (x^2 - 1)\n",
    "f5 = (mocnina(x, 2) + cst(1)) * (mocnina(x, 2) + cst(-1))\n",
    "print(f5)\n",
    "print(f5.diff())"
   ]
  },
  {
   "attachments": {},
   "cell_type": "markdown",
   "metadata": {},
   "source": [
    "# Bonusový úkol:\n",
    "Doplňte ke všem třídám metodu `simplify()`, která provede zjednodušení výrazu. Například:\n",
    "- součet s nulou vrátí druhý operand\n",
    "- součin s nulou vrátí nulu\n",
    "- mocnina s exponentem 0 vrátí 1\n",
    "- mocnina s exponentem 1 vrátí první argument\n",
    "- součín dvou stejných argumentů vrátí mocninu s exponentem 2\n",
    "- součin konstant vrátí konstantu se součinem\n",
    "- ...\n",
    "\n",
    "Doplňte metody `__add__, __radd__, __mul__, __rmul__, ...` tak aby podporovaly operace s čísly (např. `2 + x` nebo `x * 3`), a zjednodušovaly zadávání výrazů. "
   ]
  },
  {
   "cell_type": "markdown",
   "metadata": {},
   "source": []
  },
  {
   "cell_type": "code",
   "execution_count": 77,
   "metadata": {},
   "outputs": [
    {
     "name": "stdout",
     "output_type": "stream",
     "text": [
      "2 + ((6)*(x))*(3) + 1\n",
      "18\n"
     ]
    }
   ],
   "source": [
    "x = identity()\n",
    "f6 = 2 + 6 * x * 3 + 1\n",
    "print(f6)\n",
    "print(f6.diff())"
   ]
  }
 ],
 "metadata": {
  "kernelspec": {
   "display_name": "Python 3",
   "language": "python",
   "name": "python3"
  },
  "language_info": {
   "codemirror_mode": {
    "name": "ipython",
    "version": 3
   },
   "file_extension": ".py",
   "mimetype": "text/x-python",
   "name": "python",
   "nbconvert_exporter": "python",
   "pygments_lexer": "ipython3",
   "version": "3.11.9"
  },
  "orig_nbformat": 4
 },
 "nbformat": 4,
 "nbformat_minor": 2
}
