{
 "cells": [
  {
   "attachments": {},
   "cell_type": "markdown",
   "metadata": {},
   "source": [
    "# Úkoly\n",
    "\n",
    "## Ndarray\n",
    "1. Jak zjistit velikost paměti libovolného pole. Vyzkoušejte na `a = np.array([1, 2, 3])`. Ozkoušejte s různou specifikací datového typu (`dtype` např. `np.int32`, `np.float64`, `np.complex128`).\n"
   ]
  },
  {
   "cell_type": "code",
   "execution_count": 2,
   "metadata": {},
   "outputs": [
    {
     "name": "stdout",
     "output_type": "stream",
     "text": [
      "[1 2 3]\n",
      "[1. 2. 3.]\n",
      "[1.+0.j 2.+0.j 3.+0.j]\n"
     ]
    }
   ],
   "source": [
    "import numpy as np\n",
    "a = np.array([1, 2, 3], dtype=np.int32)\n",
    "b = np.array([1, 2, 3], dtype=np.float64)\n",
    "c = np.array([1, 2, 3], dtype=np.complex128)\n",
    "print(a)\n",
    "print(b)\n",
    "print(c)"
   ]
  },
  {
   "cell_type": "markdown",
   "metadata": {},
   "source": [
    "\n",
    "2. Zjistěte rozměry, velikost v jednotlivých rozměrech a celkový počet prvků v poli `a`.\n"
   ]
  },
  {
   "cell_type": "code",
   "execution_count": 4,
   "metadata": {},
   "outputs": [
    {
     "name": "stdout",
     "output_type": "stream",
     "text": [
      "1\n",
      "(3,)\n",
      "3\n"
     ]
    }
   ],
   "source": [
    "print(a.ndim)\n",
    "print(a.shape)\n",
    "print(a.size)"
   ]
  },
  {
   "cell_type": "markdown",
   "metadata": {},
   "source": [
    "\n",
    "3. Zjistěte typ prvků v poli `a` a velikost jednoho prvku v bajtech.\n"
   ]
  },
  {
   "cell_type": "code",
   "execution_count": 6,
   "metadata": {},
   "outputs": [
    {
     "name": "stdout",
     "output_type": "stream",
     "text": [
      "int32\n",
      "4\n"
     ]
    }
   ],
   "source": [
    "print(a.dtype)\n",
    "print(a.itemsize)"
   ]
  },
  {
   "cell_type": "markdown",
   "metadata": {},
   "source": [
    "\n",
    "4. Vytvořte NumPy pole s názvem `b` o stejných rozměrech jako `a`, ale s typem `np.float32`.\n"
   ]
  },
  {
   "cell_type": "code",
   "execution_count": 9,
   "metadata": {},
   "outputs": [
    {
     "data": {
      "text/plain": [
       "array([1., 2., 3.], dtype=float32)"
      ]
     },
     "execution_count": 9,
     "metadata": {},
     "output_type": "execute_result"
    }
   ],
   "source": [
    "b = np.array(a, dtype=np.float32)\n",
    "b"
   ]
  },
  {
   "cell_type": "markdown",
   "metadata": {},
   "source": [
    "\n",
    "5. Přetypujte pole `a` na typ `np.float32` a uložte do pole `c`.\n"
   ]
  },
  {
   "cell_type": "code",
   "execution_count": 10,
   "metadata": {},
   "outputs": [
    {
     "data": {
      "text/plain": [
       "array([1., 2., 3.], dtype=float32)"
      ]
     },
     "execution_count": 10,
     "metadata": {},
     "output_type": "execute_result"
    }
   ],
   "source": [
    "c = a.astype(np.float32)\n",
    "c"
   ]
  },
  {
   "cell_type": "markdown",
   "metadata": {},
   "source": [
    "\n",
    "6. Vytvořte pole `d` s typem `np.datetime64` a uložte do něj datum \"2023-12-01\".\n"
   ]
  },
  {
   "cell_type": "code",
   "execution_count": 12,
   "metadata": {},
   "outputs": [
    {
     "data": {
      "text/plain": [
       "array('2023-12-01', dtype='datetime64[D]')"
      ]
     },
     "execution_count": 12,
     "metadata": {},
     "output_type": "execute_result"
    }
   ],
   "source": [
    "d = np.array(\"2023-12-01\", np.datetime64)\n",
    "d"
   ]
  },
  {
   "cell_type": "markdown",
   "metadata": {},
   "source": [
    "\n",
    "7. Vytvořte pole `e` s typem složeným ze dvou sloupců: `int32` a `string_` s maximální délkou 10 znaků.\n"
   ]
  },
  {
   "cell_type": "code",
   "execution_count": 32,
   "metadata": {},
   "outputs": [
    {
     "data": {
      "text/plain": [
       "array([], dtype=[('číslo', '<i4'), ('text', 'S10')])"
      ]
     },
     "execution_count": 32,
     "metadata": {},
     "output_type": "execute_result"
    }
   ],
   "source": [
    "muj_typ = np.dtype([(\"číslo\", np.int32), (\"text\", np.string_, 10)])\n",
    "e = np.array([], dtype=muj_typ)\n",
    "e"
   ]
  },
  {
   "cell_type": "markdown",
   "metadata": {},
   "source": [
    "\n",
    "8. Naplňte pole `e` hodnotami: `[(1, \"a\"), (2, \"b\"), (3, \"c\")]`.\n"
   ]
  },
  {
   "cell_type": "code",
   "execution_count": 33,
   "metadata": {},
   "outputs": [
    {
     "data": {
      "text/plain": [
       "[(1, 'a'), (2, 'b'), (3, 'c')]"
      ]
     },
     "execution_count": 33,
     "metadata": {},
     "output_type": "execute_result"
    }
   ],
   "source": [
    "e = [(1, \"a\"), (2, \"b\"), (3, \"c\")]\n",
    "e"
   ]
  },
  {
   "cell_type": "markdown",
   "metadata": {},
   "source": [
    "\n",
    "9. Změňte hodnotu druhého prvku v druhém sloupci pole `e` na \"hello\".\n"
   ]
  },
  {
   "cell_type": "code",
   "execution_count": 34,
   "metadata": {},
   "outputs": [
    {
     "ename": "TypeError",
     "evalue": "list indices must be integers or slices, not str",
     "output_type": "error",
     "traceback": [
      "\u001b[0;31m---------------------------------------------------------------------------\u001b[0m",
      "\u001b[0;31mTypeError\u001b[0m                                 Traceback (most recent call last)",
      "\u001b[0;32m/tmp/ipykernel_4637/3667262980.py\u001b[0m in \u001b[0;36m<module>\u001b[0;34m\u001b[0m\n\u001b[0;32m----> 1\u001b[0;31m \u001b[0me\u001b[0m\u001b[0;34m[\u001b[0m\u001b[0;34m\"text\"\u001b[0m\u001b[0;34m]\u001b[0m\u001b[0;34m[\u001b[0m\u001b[0;36m1\u001b[0m\u001b[0;34m]\u001b[0m \u001b[0;34m=\u001b[0m \u001b[0;34m\"hello\"\u001b[0m\u001b[0;34m\u001b[0m\u001b[0;34m\u001b[0m\u001b[0m\n\u001b[0m\u001b[1;32m      2\u001b[0m \u001b[0me\u001b[0m\u001b[0;34m\u001b[0m\u001b[0;34m\u001b[0m\u001b[0m\n",
      "\u001b[0;31mTypeError\u001b[0m: list indices must be integers or slices, not str"
     ]
    }
   ],
   "source": [
    "e[\"text\"][1] = \"hello\"\n",
    "e"
   ]
  },
  {
   "cell_type": "markdown",
   "metadata": {},
   "source": [
    "## Vytváření polí\n",
    "1. Vytvořte matici samých jedniček o rozměrech 3x3. Vypište všechny její prvky."
   ]
  },
  {
   "cell_type": "code",
   "execution_count": 35,
   "metadata": {},
   "outputs": [
    {
     "data": {
      "text/plain": [
       "array([[1., 1., 1.],\n",
       "       [1., 1., 1.],\n",
       "       [1., 1., 1.]])"
      ]
     },
     "execution_count": 35,
     "metadata": {},
     "output_type": "execute_result"
    }
   ],
   "source": [
    "A = np.ones((3, 3))\n",
    "A"
   ]
  },
  {
   "cell_type": "markdown",
   "metadata": {},
   "source": [
    "2. Vytvořte vektor s hodnotami od 10 do 49.\n"
   ]
  },
  {
   "cell_type": "code",
   "execution_count": 37,
   "metadata": {},
   "outputs": [
    {
     "data": {
      "text/plain": [
       "array([10, 11, 12, 13, 14, 15, 16, 17, 18, 19, 20, 21, 22, 23, 24, 25, 26,\n",
       "       27, 28, 29, 30, 31, 32, 33, 34, 35, 36, 37, 38, 39, 40, 41, 42, 43,\n",
       "       44, 45, 46, 47, 48, 49])"
      ]
     },
     "execution_count": 37,
     "metadata": {},
     "output_type": "execute_result"
    }
   ],
   "source": [
    "v = np.arange(10, 50)\n",
    "v"
   ]
  },
  {
   "cell_type": "markdown",
   "metadata": {},
   "source": [
    "3. Vytvořte pole 3x4 typu `bool` se všemi prvky `True`.\n"
   ]
  },
  {
   "cell_type": "code",
   "execution_count": 40,
   "metadata": {},
   "outputs": [
    {
     "data": {
      "text/plain": [
       "array([[ True,  True,  True,  True],\n",
       "       [ True,  True,  True,  True],\n",
       "       [ True,  True,  True,  True]])"
      ]
     },
     "execution_count": 40,
     "metadata": {},
     "output_type": "execute_result"
    }
   ],
   "source": [
    "B = np.full((3, 4), True, dtype=np.bool8)\n",
    "B"
   ]
  },
  {
   "cell_type": "markdown",
   "metadata": {},
   "source": [
    "4. Vytvořte matici 3x3 s hodnotami od 0 do 8.\n"
   ]
  },
  {
   "cell_type": "code",
   "execution_count": 44,
   "metadata": {},
   "outputs": [
    {
     "data": {
      "text/plain": [
       "array([[0, 1, 2],\n",
       "       [3, 4, 5],\n",
       "       [6, 7, 8]])"
      ]
     },
     "execution_count": 44,
     "metadata": {},
     "output_type": "execute_result"
    }
   ],
   "source": [
    "C = np.arange(0, 9).reshape(3, 3)\n",
    "C"
   ]
  },
  {
   "cell_type": "markdown",
   "metadata": {},
   "source": [
    "5. Vytvořte jednotkovou matici 3x3.\n"
   ]
  },
  {
   "cell_type": "code",
   "execution_count": 45,
   "metadata": {},
   "outputs": [
    {
     "data": {
      "text/plain": [
       "array([[1., 0., 0.],\n",
       "       [0., 1., 0.],\n",
       "       [0., 0., 1.]])"
      ]
     },
     "execution_count": 45,
     "metadata": {},
     "output_type": "execute_result"
    }
   ],
   "source": [
    "I = np.eye(3, 3)\n",
    "I"
   ]
  },
  {
   "cell_type": "markdown",
   "metadata": {},
   "source": [
    "6. Vytvořte pole 3x3x3 s náhodnými hodnotami.\n"
   ]
  },
  {
   "cell_type": "code",
   "execution_count": 47,
   "metadata": {},
   "outputs": [
    {
     "data": {
      "text/plain": [
       "array([[[0.75631367, 0.03456712, 0.22550735],\n",
       "        [0.39631135, 0.54925007, 0.60606469],\n",
       "        [0.49845211, 0.78330025, 0.30855906]],\n",
       "\n",
       "       [[0.3114011 , 0.87080796, 0.52726698],\n",
       "        [0.25316874, 0.98891141, 0.95627049],\n",
       "        [0.0496338 , 0.10455184, 0.25331   ]],\n",
       "\n",
       "       [[0.61193765, 0.30078867, 0.37894079],\n",
       "        [0.06180331, 0.66242945, 0.37581527],\n",
       "        [0.98413908, 0.04631669, 0.73174949]]])"
      ]
     },
     "execution_count": 47,
     "metadata": {},
     "output_type": "execute_result"
    }
   ],
   "source": [
    "R = np.random.rand(3, 3, 3)\n",
    "R"
   ]
  },
  {
   "cell_type": "markdown",
   "metadata": {},
   "source": [
    "7. Vytvořte 2D pole s 1 na okraji a 0 uvnitř.\n"
   ]
  },
  {
   "cell_type": "code",
   "execution_count": 60,
   "metadata": {},
   "outputs": [],
   "source": [
    "M = np.zeros((5, 5))"
   ]
  },
  {
   "cell_type": "markdown",
   "metadata": {},
   "source": [
    "8. Jak přidat okraj (vyplněný nulami) kolem existujícího pole?\n"
   ]
  },
  {
   "cell_type": "code",
   "execution_count": 65,
   "metadata": {},
   "outputs": [
    {
     "data": {
      "text/plain": [
       "array([[1., 1., 1., 1., 1., 1., 1.],\n",
       "       [1., 0., 0., 0., 0., 0., 1.],\n",
       "       [1., 0., 0., 0., 0., 0., 1.],\n",
       "       [1., 0., 0., 0., 0., 0., 1.],\n",
       "       [1., 0., 0., 0., 0., 0., 1.],\n",
       "       [1., 0., 0., 0., 0., 0., 1.],\n",
       "       [1., 1., 1., 1., 1., 1., 1.]])"
      ]
     },
     "execution_count": 65,
     "metadata": {},
     "output_type": "execute_result"
    }
   ],
   "source": [
    "N = np.pad(M, 1, constant_values=1)\n",
    "N"
   ]
  },
  {
   "cell_type": "markdown",
   "metadata": {},
   "source": [
    "9. Vytvořte matici 5x5 kde jediné nenulová prvky jsou [1, 2, 3, 4] pod hlavní diagonálou (nápověda - podívejte se na nápovědu funkce `diagflat`).\n",
    "```\n",
    "0 0 0 0 0\n",
    "1 0 0 0 0\n",
    "0 2 0 0 0\n",
    "0 0 3 0 0 \n",
    "0 0 0 4 0\n",
    "```\n"
   ]
  },
  {
   "cell_type": "code",
   "execution_count": 54,
   "metadata": {},
   "outputs": [
    {
     "data": {
      "text/plain": [
       "array([[0, 0, 0, 0, 0],\n",
       "       [1, 0, 0, 0, 0],\n",
       "       [0, 2, 0, 0, 0],\n",
       "       [0, 0, 3, 0, 0],\n",
       "       [0, 0, 0, 4, 0]])"
      ]
     },
     "execution_count": 54,
     "metadata": {},
     "output_type": "execute_result"
    }
   ],
   "source": [
    "H = np.diagflat(np.arange(1, 5), -1)\n",
    "H"
   ]
  },
  {
   "cell_type": "markdown",
   "metadata": {},
   "source": [
    "10. Z pole 8x8 samých nul vyvořte pomocí řezů co nejelegantnějším způsobem 8x8 matici, která vypadá jako šachovnice.\n",
    "```\n",
    "0 1 0 1 0 1 0 1\n",
    "1 0 1 0 1 0 1 0\n",
    "0 1 0 1 0 1 0 1\n",
    "1 0 1 0 1 0 1 0\n",
    "0 1 0 1 0 1 0 1\n",
    "1 0 1 0 1 0 1 0\n",
    "0 1 0 1 0 1 0 1\n",
    "1 0 1 0 1 0 1 0\n",
    "```\n"
   ]
  },
  {
   "cell_type": "code",
   "execution_count": 71,
   "metadata": {},
   "outputs": [
    {
     "data": {
      "text/plain": [
       "array([[0., 1., 0., 1., 0., 1., 0., 1.],\n",
       "       [1., 0., 1., 0., 1., 0., 1., 0.],\n",
       "       [0., 1., 0., 1., 0., 1., 0., 1.],\n",
       "       [1., 0., 1., 0., 1., 0., 1., 0.],\n",
       "       [0., 1., 0., 1., 0., 1., 0., 1.],\n",
       "       [1., 0., 1., 0., 1., 0., 1., 0.],\n",
       "       [0., 1., 0., 1., 0., 1., 0., 1.],\n",
       "       [1., 0., 1., 0., 1., 0., 1., 0.]])"
      ]
     },
     "execution_count": 71,
     "metadata": {},
     "output_type": "execute_result"
    }
   ],
   "source": [
    "S = np.zeros((8, 8))\n",
    "S[1::2, ::2] = 1\n",
    "S[::2, 1::2] = 1\n",
    "S"
   ]
  },
  {
   "cell_type": "markdown",
   "metadata": {},
   "source": [
    "11. Vytvořte šachovnicovou matici 8x8 pomocí funkce \"tile\".\n"
   ]
  },
  {
   "cell_type": "code",
   "execution_count": 66,
   "metadata": {},
   "outputs": [
    {
     "data": {
      "text/plain": [
       "array([[0, 1, 0, 1, 0, 1, 0, 1],\n",
       "       [1, 0, 1, 0, 1, 0, 1, 0],\n",
       "       [0, 1, 0, 1, 0, 1, 0, 1],\n",
       "       [1, 0, 1, 0, 1, 0, 1, 0],\n",
       "       [0, 1, 0, 1, 0, 1, 0, 1],\n",
       "       [1, 0, 1, 0, 1, 0, 1, 0],\n",
       "       [0, 1, 0, 1, 0, 1, 0, 1],\n",
       "       [1, 0, 1, 0, 1, 0, 1, 0]])"
      ]
     },
     "execution_count": 66,
     "metadata": {},
     "output_type": "execute_result"
    }
   ],
   "source": [
    "Š = np.tile(np.array([[0, 1], [1, 0]]), (4, 4))\n",
    "Š"
   ]
  },
  {
   "cell_type": "markdown",
   "metadata": {},
   "source": [
    "12. Vytvořte vektor velikosti 10 s hodnotami v rozsahu od 0 do 1 (obě hodnoty vyloučeny).\n"
   ]
  },
  {
   "cell_type": "code",
   "execution_count": null,
   "metadata": {},
   "outputs": [
    {
     "data": {
      "text/plain": [
       "array([0.09090909, 0.18181818, 0.27272727, 0.36363636, 0.45454545,\n",
       "       0.54545455, 0.63636364, 0.72727273, 0.81818182, 0.90909091])"
      ]
     },
     "execution_count": 77,
     "metadata": {},
     "output_type": "execute_result"
    }
   ],
   "source": [
    "u = np.linspace(0, 1, 12)[1:-1]\n",
    "u"
   ]
  },
  {
   "cell_type": "markdown",
   "metadata": {},
   "source": [
    "13. Vytvořte strukturované pole s koordináty x a y pokrývající oblast [0,1]x[0,1].\n"
   ]
  },
  {
   "cell_type": "code",
   "execution_count": 79,
   "metadata": {},
   "outputs": [
    {
     "name": "stdout",
     "output_type": "stream",
     "text": [
      "[[0.09090909 0.18181818 0.27272727 0.36363636 0.45454545 0.54545455\n",
      "  0.63636364 0.72727273 0.81818182 0.90909091]\n",
      " [0.09090909 0.18181818 0.27272727 0.36363636 0.45454545 0.54545455\n",
      "  0.63636364 0.72727273 0.81818182 0.90909091]\n",
      " [0.09090909 0.18181818 0.27272727 0.36363636 0.45454545 0.54545455\n",
      "  0.63636364 0.72727273 0.81818182 0.90909091]\n",
      " [0.09090909 0.18181818 0.27272727 0.36363636 0.45454545 0.54545455\n",
      "  0.63636364 0.72727273 0.81818182 0.90909091]\n",
      " [0.09090909 0.18181818 0.27272727 0.36363636 0.45454545 0.54545455\n",
      "  0.63636364 0.72727273 0.81818182 0.90909091]\n",
      " [0.09090909 0.18181818 0.27272727 0.36363636 0.45454545 0.54545455\n",
      "  0.63636364 0.72727273 0.81818182 0.90909091]\n",
      " [0.09090909 0.18181818 0.27272727 0.36363636 0.45454545 0.54545455\n",
      "  0.63636364 0.72727273 0.81818182 0.90909091]\n",
      " [0.09090909 0.18181818 0.27272727 0.36363636 0.45454545 0.54545455\n",
      "  0.63636364 0.72727273 0.81818182 0.90909091]\n",
      " [0.09090909 0.18181818 0.27272727 0.36363636 0.45454545 0.54545455\n",
      "  0.63636364 0.72727273 0.81818182 0.90909091]\n",
      " [0.09090909 0.18181818 0.27272727 0.36363636 0.45454545 0.54545455\n",
      "  0.63636364 0.72727273 0.81818182 0.90909091]]\n",
      "[[0.09090909 0.09090909 0.09090909 0.09090909 0.09090909 0.09090909\n",
      "  0.09090909 0.09090909 0.09090909 0.09090909]\n",
      " [0.18181818 0.18181818 0.18181818 0.18181818 0.18181818 0.18181818\n",
      "  0.18181818 0.18181818 0.18181818 0.18181818]\n",
      " [0.27272727 0.27272727 0.27272727 0.27272727 0.27272727 0.27272727\n",
      "  0.27272727 0.27272727 0.27272727 0.27272727]\n",
      " [0.36363636 0.36363636 0.36363636 0.36363636 0.36363636 0.36363636\n",
      "  0.36363636 0.36363636 0.36363636 0.36363636]\n",
      " [0.45454545 0.45454545 0.45454545 0.45454545 0.45454545 0.45454545\n",
      "  0.45454545 0.45454545 0.45454545 0.45454545]\n",
      " [0.54545455 0.54545455 0.54545455 0.54545455 0.54545455 0.54545455\n",
      "  0.54545455 0.54545455 0.54545455 0.54545455]\n",
      " [0.63636364 0.63636364 0.63636364 0.63636364 0.63636364 0.63636364\n",
      "  0.63636364 0.63636364 0.63636364 0.63636364]\n",
      " [0.72727273 0.72727273 0.72727273 0.72727273 0.72727273 0.72727273\n",
      "  0.72727273 0.72727273 0.72727273 0.72727273]\n",
      " [0.81818182 0.81818182 0.81818182 0.81818182 0.81818182 0.81818182\n",
      "  0.81818182 0.81818182 0.81818182 0.81818182]\n",
      " [0.90909091 0.90909091 0.90909091 0.90909091 0.90909091 0.90909091\n",
      "  0.90909091 0.90909091 0.90909091 0.90909091]]\n"
     ]
    }
   ],
   "source": [
    "X, Y = np.meshgrid(u, u)\n",
    "print(X)\n",
    "print(Y)"
   ]
  },
  {
   "cell_type": "markdown",
   "metadata": {},
   "source": [
    "## Numpy a práce se soubory\n",
    "\n",
    "1. Jak přečíst následující soubor?\n",
    "   ```\n",
    "   1, 2, 3, 4, 5\n",
    "   6, , , 7, 8\n",
    "    , , 9,10,11\n",
    "   ```\n",
    "\n",
    "\n",
    "\n"
   ]
  },
  {
   "cell_type": "code",
   "execution_count": 80,
   "metadata": {},
   "outputs": [
    {
     "name": "stdout",
     "output_type": "stream",
     "text": [
      "Writing test_data.csv\n"
     ]
    }
   ],
   "source": [
    "%%writefile test_data.csv\n",
    "1, 2, 3, 4, 5\n",
    "6, , , 7, 8\n",
    " , , 9,10,11"
   ]
  },
  {
   "cell_type": "code",
   "execution_count": 84,
   "metadata": {},
   "outputs": [
    {
     "name": "stdout",
     "output_type": "stream",
     "text": [
      "[[ 1  2  3  4  5]\n",
      " [ 6  0  0  7  8]\n",
      " [ 0  0  9 10 11]]\n"
     ]
    }
   ],
   "source": [
    "data = np.genfromtxt(\"test_data.csv\", int, delimiter=\",\", filling_values=0)\n",
    "print(data)"
   ]
  },
  {
   "cell_type": "markdown",
   "metadata": {},
   "source": [
    "2. Vytvořte tři náhodné matice 5x5 a uložte je do souboru pomocí formátu hdf5."
   ]
  },
  {
   "cell_type": "code",
   "execution_count": 86,
   "metadata": {},
   "outputs": [],
   "source": [
    "import h5py\n",
    "\n",
    "A = np.random.rand(5, 5)\n",
    "B = np.random.rand(5, 5)\n",
    "C = np.random.rand(5, 5)\n",
    "\n",
    "with h5py.File(\"matice.hdf5\", \"w\") as soubor:\n",
    "    soubor.create_dataset(\"matice_A\", data=A)\n",
    "    soubor.create_dataset(\"matice_B\", data=B)\n",
    "    soubor.create_dataset(\"matice_C\", data=C)"
   ]
  },
  {
   "cell_type": "markdown",
   "metadata": {},
   "source": [
    "3. Načtěte soubor z předchozího úkolu, zobrazte obsah každé matice a zjistěte jejich rozměry."
   ]
  },
  {
   "cell_type": "code",
   "execution_count": 89,
   "metadata": {},
   "outputs": [
    {
     "name": "stdout",
     "output_type": "stream",
     "text": [
      "[[0.4498819  0.74231084 0.60421987 0.18254374 0.57688834]\n",
      " [0.76580965 0.38264301 0.69488518 0.16362811 0.08113846]\n",
      " [0.91228463 0.39619666 0.94972554 0.33725781 0.02600907]\n",
      " [0.41052543 0.21044287 0.13169577 0.29733053 0.38782795]\n",
      " [0.22081318 0.19535142 0.34852016 0.577873   0.9495925 ]] (5, 5)\n",
      "[[0.01706974 0.0801739  0.88830196 0.21918644 0.17128503]\n",
      " [0.65652192 0.71511329 0.3101438  0.21429526 0.41552347]\n",
      " [0.67846127 0.39071728 0.52033232 0.3658164  0.34046192]\n",
      " [0.79873257 0.89135193 0.58754507 0.58121678 0.68183756]\n",
      " [0.4200078  0.96401844 0.45104228 0.60451176 0.12087705]] (5, 5)\n",
      "[[0.0172246  0.14130298 0.06290026 0.9625929  0.65269751]\n",
      " [0.70343525 0.33057686 0.2293471  0.75841815 0.68659412]\n",
      " [0.29113653 0.65111582 0.68699855 0.52967592 0.27112748]\n",
      " [0.34048856 0.63455193 0.36476919 0.60673114 0.55559366]\n",
      " [0.45210612 0.81486244 0.32678749 0.56321432 0.81513192]] (5, 5)\n"
     ]
    }
   ],
   "source": [
    "with h5py.File(\"matice.hdf5\", \"r\") as soubor:\n",
    "    A = soubor[\"matice_A\"][:]\n",
    "    print(A, A.shape)\n",
    "    B = soubor[\"matice_B\"][:]\n",
    "    print(B, B.shape)\n",
    "    C = soubor[\"matice_C\"][:]\n",
    "    print(C, C.shape)"
   ]
  }
 ],
 "metadata": {
  "kernelspec": {
   "display_name": "Python 3",
   "language": "python",
   "name": "python3"
  },
  "language_info": {
   "codemirror_mode": {
    "name": "ipython",
    "version": 3
   },
   "file_extension": ".py",
   "mimetype": "text/x-python",
   "name": "python",
   "nbconvert_exporter": "python",
   "pygments_lexer": "ipython3",
   "version": "3.10.12"
  },
  "orig_nbformat": 4,
  "vscode": {
   "interpreter": {
    "hash": "e7370f93d1d0cde622a1f8e1c04877d8463912d04d973331ad4851f04de6915a"
   }
  }
 },
 "nbformat": 4,
 "nbformat_minor": 2
}
