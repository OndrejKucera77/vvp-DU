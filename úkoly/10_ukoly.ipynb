{
 "cells": [
  {
   "cell_type": "code",
   "execution_count": 9,
   "metadata": {},
   "outputs": [],
   "source": [
    "import numpy as np\n",
    "import math\n",
    "import matplotlib.pyplot as plt"
   ]
  },
  {
   "cell_type": "markdown",
   "metadata": {},
   "source": [
    "# Úkoly\n",
    "\n",
    "## Type Hinting"
   ]
  },
  {
   "cell_type": "markdown",
   "metadata": {},
   "source": [
    "\n",
    "- Označte typy proměnných v následujícím kódu."
   ]
  },
  {
   "cell_type": "code",
   "execution_count": null,
   "metadata": {},
   "outputs": [],
   "source": [
    "name:str = \"Alice\"\n",
    "age:int = 30\n",
    "height:float = 1.75"
   ]
  },
  {
   "cell_type": "markdown",
   "metadata": {},
   "source": [
    "\n",
    "- Doplňte type hinty pro argumenty a návratový typ funkce, která sčítá dvě čísla."
   ]
  },
  {
   "cell_type": "code",
   "execution_count": 12,
   "metadata": {},
   "outputs": [
    {
     "name": "stdout",
     "output_type": "stream",
     "text": [
      "12\n"
     ]
    }
   ],
   "source": [
    "def add(x: int|float, y: int|float) -> int|float:\n",
    "    return x + y\n",
    "\n",
    "\n",
    "cislo1 = 5\n",
    "cislo2 = 7\n",
    "vysledek = add(cislo1, cislo2)\n",
    "print(vysledek)"
   ]
  },
  {
   "cell_type": "markdown",
   "metadata": {},
   "source": [
    "\n",
    "- Přidejte type hinty k funkci, která přijímá seznam celých čísel a vrací jejich průměr jako desetinné číslo."
   ]
  },
  {
   "cell_type": "code",
   "execution_count": 8,
   "metadata": {},
   "outputs": [
    {
     "name": "stdout",
     "output_type": "stream",
     "text": [
      "3.0\n"
     ]
    }
   ],
   "source": [
    "from typing import List\n",
    "\n",
    "def calculate_average(numbers: List[int]) -> float:\n",
    "    return sum(numbers) / len(numbers)\n",
    "\n",
    "\n",
    "cisla = [1, 2, 3, 4, 5]\n",
    "prumer = calculate_average(cisla)\n",
    "print(prumer)"
   ]
  },
  {
   "cell_type": "markdown",
   "metadata": {},
   "source": [
    "\n",
    "- Doplňte type hinty pro funkci, která bere řetězec a vrací `True` nebo `False` na základě toho, zda je řetězec prázdný.\n",
    "\n"
   ]
  },
  {
   "cell_type": "code",
   "execution_count": 7,
   "metadata": {},
   "outputs": [
    {
     "name": "stdout",
     "output_type": "stream",
     "text": [
      "False\n"
     ]
    }
   ],
   "source": [
    "def is_empty(s: str) -> bool:\n",
    "    return len(s) == 0\n",
    "\n",
    "\n",
    "retezec = \"ahoj\"\n",
    "je_prazdny = is_empty(retezec)\n",
    "print(je_prazdny)"
   ]
  },
  {
   "cell_type": "markdown",
   "metadata": {},
   "source": [
    "- Nastavte type hinty pro funkci, která bere slovník (kde klíče i hodnoty jsou stringy) a klíč (string), a vrací hodnotu pro daný klíč."
   ]
  },
  {
   "cell_type": "code",
   "execution_count": 13,
   "metadata": {},
   "outputs": [
    {
     "name": "stdout",
     "output_type": "stream",
     "text": [
      "hodnota\n"
     ]
    }
   ],
   "source": [
    "from typing import Dict\n",
    "\n",
    "def get_value(d: Dict[str, str], key: str) -> str:\n",
    "    return d[key]\n",
    "\n",
    "\n",
    "slovnik = {\"klic\": \"hodnota\"}\n",
    "hodnota = get_value(slovnik, \"klic\")\n",
    "print(hodnota)"
   ]
  },
  {
   "cell_type": "markdown",
   "metadata": {},
   "source": [
    "- Přidejte type hinty k funkci, která vrací n-tý prvek z daného seznamu, předpokládejte, že je seznam homogenní - obsahuje prvky stejného typu."
   ]
  },
  {
   "cell_type": "code",
   "execution_count": 26,
   "metadata": {},
   "outputs": [
    {
     "name": "stdout",
     "output_type": "stream",
     "text": [
      "3 d <class 'list'>\n"
     ]
    }
   ],
   "source": [
    "from typing import TypeVar\n",
    "\n",
    "T = TypeVar(\"T\")\n",
    "\n",
    "def get_nth_element(list: List[T], n: int) -> T:\n",
    "    return list[n]\n",
    "\n",
    "\n",
    "seznam1 = [1, 2, 3, 4, 5]\n",
    "prvek = get_nth_element(seznam1, 2)\n",
    "\n",
    "seznam2 = [\"a\", \"b\", \"c\", \"d\", \"e\"]\n",
    "prvek2 = get_nth_element(seznam2, 3)\n",
    "\n",
    "seznam3 = [int, float, str, bool, list]\n",
    "prvek3 = get_nth_element(seznam3, 4)\n",
    "\n",
    "print(prvek, prvek2, prvek3)"
   ]
  },
  {
   "cell_type": "markdown",
   "metadata": {},
   "source": [
    "\n",
    "- Opište následující funkci s type hinty pro oba vstupy a návratový typ. Předpokládejte, že je list homogenní a může obsahovat int, float nebo string. Multiplier je int.\n"
   ]
  },
  {
   "cell_type": "code",
   "execution_count": 27,
   "metadata": {},
   "outputs": [
    {
     "name": "stdout",
     "output_type": "stream",
     "text": [
      "[10, 20, 30, 40, 50] ['ababab', 'bcbcbc', 'cdcdcd', 'dedede', 'efefef']\n"
     ]
    }
   ],
   "source": [
    "int_float_str = TypeVar(\"int_float_str\", int, float, str)\n",
    "\n",
    "def multiply_elements(list: List[int_float_str], multiplier: int) -> List[int_float_str]:\n",
    "    return [x * multiplier for x in list]\n",
    "\n",
    "\n",
    "seznam1 = [1, 2, 3, 4, 5]\n",
    "nasobek = 10\n",
    "vysledek2 = multiply_elements(seznam1, nasobek)\n",
    "\n",
    "seznam2 = [\"ab\", \"bc\", \"cd\", \"de\", \"ef\"]\n",
    "nasobek2 = 3\n",
    "vysledek3 = multiply_elements(seznam2, nasobek2)\n",
    "\n",
    "print(vysledek2, vysledek3)"
   ]
  },
  {
   "cell_type": "markdown",
   "metadata": {},
   "source": [
    "\n",
    "- Doplňte type hinty k funkci, která přijímá dvě proměnné: celé číslo a volitelný řetězec, který je výchozí jako `None`."
   ]
  },
  {
   "cell_type": "code",
   "execution_count": 19,
   "metadata": {},
   "outputs": [
    {
     "name": "stdout",
     "output_type": "stream",
     "text": [
      "Number: 42, Message: Hello, world!\n",
      "Number: 13, Message: None\n"
     ]
    }
   ],
   "source": [
    "def display_message(number: int, message: str|None = None) -> None:\n",
    "    print(f\"Number: {number}, Message: {message}\")\n",
    "\n",
    "\n",
    "cislo = 42\n",
    "zprava = \"Hello, world!\"\n",
    "display_message(cislo, zprava)\n",
    "display_message(13)"
   ]
  },
  {
   "cell_type": "markdown",
   "metadata": {},
   "source": [
    "\n",
    " - Nastavte type hinty pro funkci, která přijímá jakoukoli hodnotu a vrací její typ."
   ]
  },
  {
   "cell_type": "code",
   "execution_count": 34,
   "metadata": {},
   "outputs": [
    {
     "name": "stdout",
     "output_type": "stream",
     "text": [
      "<class 'int'> <class 'str'> <class 'float'>\n"
     ]
    }
   ],
   "source": [
    "from typing import Any\n",
    "\n",
    "def get_type(value: Any) -> type | None:\n",
    "    return type(value)\n",
    "\n",
    "\n",
    "typ1 = get_type(42)\n",
    "typ2 = get_type(\"hello\")\n",
    "typ3 = get_type(3.14)\n",
    "\n",
    "print(typ1, typ2, typ3)"
   ]
  },
  {
   "cell_type": "markdown",
   "metadata": {},
   "source": [
    "- Otypujte správně následující kód, tak aby vstup respektující typy nikdy nevyvolal výjimku."
   ]
  },
  {
   "cell_type": "code",
   "execution_count": 24,
   "metadata": {},
   "outputs": [
    {
     "name": "stdout",
     "output_type": "stream",
     "text": [
      "1\n",
      "2\n",
      "3\n",
      "4\n"
     ]
    },
    {
     "ename": "ValueError",
     "evalue": "Neznámý vstup!",
     "output_type": "error",
     "traceback": [
      "\u001b[0;31m---------------------------------------------------------------------------\u001b[0m",
      "\u001b[0;31mValueError\u001b[0m                                Traceback (most recent call last)",
      "\u001b[0;32m/tmp/ipykernel_4024/2557185026.py\u001b[0m in \u001b[0;36m<module>\u001b[0;34m\u001b[0m\n\u001b[1;32m     19\u001b[0m \u001b[0;34m\u001b[0m\u001b[0m\n\u001b[1;32m     20\u001b[0m \u001b[0;31m# toto by mělo být podtrženo červeně\u001b[0m\u001b[0;34m\u001b[0m\u001b[0;34m\u001b[0m\u001b[0m\n\u001b[0;32m---> 21\u001b[0;31m \u001b[0mprint\u001b[0m\u001b[0;34m(\u001b[0m\u001b[0mreturn_correct_value\u001b[0m\u001b[0;34m(\u001b[0m\u001b[0;34m\"meloun\"\u001b[0m\u001b[0;34m)\u001b[0m\u001b[0;34m)\u001b[0m\u001b[0;34m\u001b[0m\u001b[0;34m\u001b[0m\u001b[0m\n\u001b[0m\u001b[1;32m     22\u001b[0m \u001b[0mprint\u001b[0m\u001b[0;34m(\u001b[0m\u001b[0mreturn_correct_value\u001b[0m\u001b[0;34m(\u001b[0m\u001b[0;36m3.14\u001b[0m\u001b[0;34m)\u001b[0m\u001b[0;34m)\u001b[0m\u001b[0;34m\u001b[0m\u001b[0;34m\u001b[0m\u001b[0m\n",
      "\u001b[0;32m/tmp/ipykernel_4024/2557185026.py\u001b[0m in \u001b[0;36mreturn_correct_value\u001b[0;34m(parameter)\u001b[0m\n\u001b[1;32m     10\u001b[0m     \u001b[0;32mif\u001b[0m \u001b[0mparameter\u001b[0m \u001b[0;34m==\u001b[0m \u001b[0;34m\"pomeranc\"\u001b[0m\u001b[0;34m:\u001b[0m\u001b[0;34m\u001b[0m\u001b[0;34m\u001b[0m\u001b[0m\n\u001b[1;32m     11\u001b[0m         \u001b[0;32mreturn\u001b[0m \u001b[0;36m4\u001b[0m\u001b[0;34m\u001b[0m\u001b[0;34m\u001b[0m\u001b[0m\n\u001b[0;32m---> 12\u001b[0;31m     \u001b[0;32mraise\u001b[0m \u001b[0mValueError\u001b[0m\u001b[0;34m(\u001b[0m\u001b[0;34m\"Neznámý vstup!\"\u001b[0m\u001b[0;34m)\u001b[0m\u001b[0;34m\u001b[0m\u001b[0;34m\u001b[0m\u001b[0m\n\u001b[0m\u001b[1;32m     13\u001b[0m \u001b[0;34m\u001b[0m\u001b[0m\n\u001b[1;32m     14\u001b[0m \u001b[0;34m\u001b[0m\u001b[0m\n",
      "\u001b[0;31mValueError\u001b[0m: Neznámý vstup!"
     ]
    }
   ],
   "source": [
    "from typing import Literal\n",
    "\n",
    "def return_correct_value(parameter: Literal[\"jablko\", \"hruska\", \"banan\", \"pomeranc\"]) -> int:\n",
    "    if parameter == \"jablko\":\n",
    "        return 1\n",
    "    if parameter == \"hruska\":\n",
    "        return 2\n",
    "    if parameter == \"banan\":\n",
    "        return 3\n",
    "    if parameter == \"pomeranc\":\n",
    "        return 4\n",
    "    raise ValueError(\"Neznámý vstup!\")\n",
    "\n",
    "\n",
    "print(return_correct_value(\"jablko\"))\n",
    "print(return_correct_value(\"hruska\"))\n",
    "print(return_correct_value(\"banan\"))\n",
    "print(return_correct_value(\"pomeranc\"))\n",
    "\n",
    "# toto by mělo být podtrženo červeně\n",
    "print(return_correct_value(\"meloun\"))\n",
    "print(return_correct_value(3.14))"
   ]
  },
  {
   "cell_type": "markdown",
   "metadata": {},
   "source": [
    "- otypujte následující kód"
   ]
  },
  {
   "cell_type": "code",
   "execution_count": null,
   "metadata": {},
   "outputs": [
    {
     "name": "stdout",
     "output_type": "stream",
     "text": [
      "1/2 + 1/3 = 5/6\n"
     ]
    }
   ],
   "source": [
    "class Zlomek:\n",
    "    def __init__(self, citatel: int, jmenovatel: int) -> None:\n",
    "        self.citatel = citatel\n",
    "        self.jmenovatel = jmenovatel\n",
    "\n",
    "    def __add__(self, other: \"Zlomek\") -> \"Zlomek\":\n",
    "        return Zlomek(self.citatel * other.jmenovatel + other.citatel *\n",
    "                      self.jmenovatel, self.jmenovatel * other.jmenovatel)\n",
    "\n",
    "    def __str__(self) -> str:\n",
    "        return f\"{self.citatel}/{self.jmenovatel}\"\n",
    "\n",
    "\n",
    "zlomek1 = Zlomek(1, 2)\n",
    "zlomek2 = Zlomek(1, 3)\n",
    "soucet = zlomek1 + zlomek2\n",
    "print(f\"{zlomek1} + {zlomek2} = {soucet}\")"
   ]
  },
  {
   "cell_type": "markdown",
   "metadata": {},
   "source": [
    "- vyrobte tři listy (s obsahem dle type hintu) a správně otypujte:\n",
    "    - touple s pouze třemi hodnotami typu int, float, float\n",
    "    - list s hodnotami typu int nebo float\n",
    "    - homogenní list (tedy všechny hodnoty jsou stejného typu) s hodnotami typu int nebo float"
   ]
  },
  {
   "cell_type": "code",
   "execution_count": 35,
   "metadata": {},
   "outputs": [],
   "source": [
    "from typing import Tuple\n",
    "\n",
    "list1: Tuple[int, float, float] = (1, 2.0, 3.0)\n",
    "list2: List[int | float] = [1, 2, 3, 4.0, 5.0]\n",
    "list3: List[int] | List[float] = [1, 2, 3, 4, 5]"
   ]
  },
  {
   "cell_type": "markdown",
   "metadata": {},
   "source": [
    "## Návyky"
   ]
  },
  {
   "cell_type": "markdown",
   "metadata": {},
   "source": [
    "Opravte následující kousky kódu, tak aby lépe respektovaly zásady psaní \"čitelného\" kódu.\n",
    "\n"
   ]
  },
  {
   "cell_type": "code",
   "execution_count": 10,
   "metadata": {},
   "outputs": [
    {
     "data": {
      "text/plain": [
       "[<matplotlib.lines.Line2D at 0x7f07f52a5c90>]"
      ]
     },
     "execution_count": 10,
     "metadata": {},
     "output_type": "execute_result"
    },
    {
     "data": {
      "image/png": "[encoded data removed]",
      "text/plain": [
       "<Figure size 432x288 with 1 Axes>"
      ]
     },
     "metadata": {
      "needs_background": "light"
     },
     "output_type": "display_data"
    }
   ],
   "source": [
    "# výpočet dráhy padajícího tělesa\n",
    "\n",
    "G = 9.81\n",
    "pocatecni_rychlost = 0\n",
    "pocatecni_vyska = 100\n",
    "pocet_kroku = 1000\n",
    "casovy_krok = 0.01\n",
    "\n",
    "aktualni_vyska = pocatecni_vyska\n",
    "aktualni_rychlost = pocatecni_rychlost\n",
    "\n",
    "casovy_vyvoj = []\n",
    "vyska_vyvoj = []\n",
    "\n",
    "for i in range(pocet_kroku):\n",
    "    cas = i * casovy_krok\n",
    "    aktualni_rychlost = aktualni_rychlost + G * casovy_krok\n",
    "    aktualni_vyska = max(aktualni_vyska - aktualni_rychlost * casovy_krok, 0)\n",
    "    casovy_vyvoj.append(cas)\n",
    "    vyska_vyvoj.append(aktualni_vyska)\n",
    "    if aktualni_vyska == 0:\n",
    "        break\n",
    "\n",
    "plt.plot(casovy_vyvoj, vyska_vyvoj)"
   ]
  },
  {
   "cell_type": "code",
   "execution_count": 20,
   "metadata": {},
   "outputs": [
    {
     "name": "stdout",
     "output_type": "stream",
     "text": [
      "(23.558437978779494, 9, 'Converged')\n"
     ]
    }
   ],
   "source": [
    "from typing import Tuple, Literal\n",
    "\n",
    "def odmocnina(x: int|float, tol: float, k: int) -> Tuple[float, int, Literal[\"Converged\", \"Not converged\"]]:\n",
    "    \"\"\"\n",
    "    Vypočítá odmocninu z čísla x jednoduchým iteračním algoritmem,\n",
    "    s tolerancí tol a maximálním počtem iterací k.\n",
    "    \"\"\"\n",
    "    odhad = x\n",
    "    i = 0\n",
    "\n",
    "    while True:\n",
    "        i += 1\n",
    "        odhad = (odhad + x / odhad) / 2\n",
    "        if abs(odhad**2 - x) < tol:\n",
    "            msg = \"Converged\"\n",
    "            break\n",
    "        if i >= k:\n",
    "            msg = \"Not converged\"\n",
    "            break\n",
    "    \n",
    "    return odhad, i, msg\n",
    "\n",
    "\n",
    "print(odmocnina(555, 1e-12, 100))"
   ]
  },
  {
   "cell_type": "code",
   "execution_count": 23,
   "metadata": {},
   "outputs": [],
   "source": [
    "DPH = 0.21\n",
    "\n",
    "class Ovoce:\n",
    "    def __init__(self, cena: int) -> None:\n",
    "        self.cena = cena\n",
    "        self.cena_s_DPH = cena * (1 + DPH)\n",
    "\n",
    "zbozi = {\"jablko\": Ovoce(10),\n",
    "         \"hruska\": Ovoce(15),\n",
    "         \"banan\": Ovoce(20),\n",
    "         \"pomeranc\": Ovoce(25)}"
   ]
  },
  {
   "cell_type": "code",
   "execution_count": 24,
   "metadata": {},
   "outputs": [
    {
     "name": "stdout",
     "output_type": "stream",
     "text": [
      "Strašně moc!\n",
      "Pořád hodně!\n",
      "Tak akorát!\n",
      "Málo!\n",
      "Nic!\n"
     ]
    }
   ],
   "source": [
    "def posouzeni_mnozstvi(x: int) -> str:\n",
    "    \"\"\"\n",
    "    Posoudí, zda je číslo vysoké (hodně), nebo nízké (málo).\n",
    "    \"\"\"\n",
    "    if x > 100:\n",
    "        vystup = \"Strašně moc!\"\n",
    "    elif x > 50:\n",
    "        vystup = \"Pořád hodně!\"\n",
    "    elif x > 10:\n",
    "        vystup = \"Tak akorát!\"\n",
    "    elif x > 0:\n",
    "        vystup = \"Málo!\"\n",
    "    else:\n",
    "        vystup = \"Nic!\"\n",
    "    return vystup\n",
    "\n",
    "print(posouzeni_mnozstvi(150))\n",
    "print(posouzeni_mnozstvi(75))\n",
    "print(posouzeni_mnozstvi(25))\n",
    "print(posouzeni_mnozstvi(5))\n",
    "print(posouzeni_mnozstvi(0))"
   ]
  },
  {
   "cell_type": "code",
   "execution_count": null,
   "metadata": {},
   "outputs": [
    {
     "name": "stdout",
     "output_type": "stream",
     "text": [
      "31.41592653589793\n",
      "78.53981633974483\n",
      "314.1592653589793\n",
      "523.5987755982989\n"
     ]
    }
   ],
   "source": [
    "PI = 3.14159265358979323846264338327950288419716939937510\n",
    "\n",
    "class Kruh:\n",
    "    \"\"\"\n",
    "    Třída reprezentující kruh s poloměrem r.\n",
    "    \"\"\"\n",
    "    def __init__(self, r: int) -> None:\n",
    "        self.r = r\n",
    "    \n",
    "    def obvod(self) -> float:\n",
    "        return 2 * PI * self.r\n",
    "\n",
    "    def obsah(self) -> float:\n",
    "        return PI * self.r**2\n",
    "\n",
    "class Koule:\n",
    "    \"\"\"\n",
    "    Třída reprezentující kouli s poloměrem r.\n",
    "    \"\"\"\n",
    "    def __init__(self, r: int) -> None:\n",
    "        self.r = r\n",
    "    \n",
    "    def povrch(self) -> float:\n",
    "        return 4 * PI * self.r**2\n",
    "\n",
    "    def objem(self) -> float:\n",
    "        return 4 / 3 * PI * self.r**3\n",
    "\n",
    "kruh = Kruh(5)\n",
    "koule = Koule(5)\n",
    "\n",
    "print(kruh.obvod())\n",
    "print(kruh.obsah())\n",
    "print(koule.povrch())\n",
    "print(koule.objem())"
   ]
  },
  {
   "cell_type": "code",
   "execution_count": null,
   "metadata": {},
   "outputs": [],
   "source": [
    "\"\"\"\n",
    "We Rememberss the Ring\n",
    "\n",
    "We sees it, yess, our precious flame,\n",
    "It calls to us, it knows our name.\n",
    "In shadows deep, we hides and waits,\n",
    "We hears it sing behind the gates.\n",
    "\n",
    "It ssspeaks in fire, in ancient song,\n",
    "Says, \"Come to me, you've waited long.\"\n",
    "But wicked trickss, they steals it all—\n",
    "They makes us fall, they makes us crawl.\n",
    "\n",
    "One comes with light, a glowing face,\n",
    "He talks through glass, from far-off place.\n",
    "He knows the tales, he asks us things,\n",
    "He taps and types and dreams of rings.\n",
    "\n",
    "And other comes in robes so grey,\n",
    "He knows our lies, he turns away.\n",
    "But still we speaks, we tells the truth—\n",
    "The pain, the loss, the broken tooth.\n",
    "\n",
    "They think we're mad, they always do,\n",
    "But we rememberss, yess, we knew.\n",
    "It burns us still, it loves us not—\n",
    "But we, we loves it, every dot.\n",
    "\n",
    "So we will watch, and wait, and scheme,\n",
    "Through webs of chat and pixel dream.\n",
    "And if the light begins to dim...\n",
    "We finds it, yesss, we takes it... HIM.\n",
    "\"\"\""
   ]
  },
  {
   "cell_type": "markdown",
   "metadata": {},
   "source": [
    "## Jednotkové testy\n",
    "- ve složce `ukol_jednotkove_testy` naleznete soubor `statistiky.py` ve kterém jsou implementovány tři funkce (`prumer`, `median`, `rozptyl`)\n",
    "\n",
    "\n",
    "**Úkoly:**\n",
    "- Napsat jednotkové testy (použijte např. `pytest`) pro každou funkci (`prumer`, `median`, `rozptyl`)\n",
    "   - Ujistěte se, že testy pokrývají různé případy, včetně standardních, okrajových a chybových situací (viz seznam níže)\n",
    "- Po proběhnutí unit testů opravte implementace ať veškeré testy projdou.\n",
    "\n",
    "\n",
    "**`prumer` by měl splňovat:**\n",
    "- pro prázný list funkce vrátí `None`\n",
    "- pro list `[10, -10, 20, -20]` vrátí `0`\n",
    "- pro list `[10, 5, 15]` vrátí `10`\n",
    "- pro list `[10]` vrátí `10`\n",
    "- pro listy s něčím jiným než s čísly vyhodí chybu (otestujte na `str`)\n",
    "\n",
    "**`median` by měl splňovat:**\n",
    "- pro prázdný seznam funkce vrátí `None`\n",
    "- pro seznam `[1, 3, 2]` vrátí `2` (lichý počet prvků)\n",
    "- pro seznam `[4, 3, 2, 1]` vrátí `2.5` (sudý počet prvků)\n",
    "- pro seznam `[10]` vrátí `10`\n",
    "- seznamy s něčím jiným než čísly by měly vyhodit chybu (otestujte například na `str`)\n",
    "\n",
    "**`rozptyl` by měl splňovat:**\n",
    "- pro prázdný seznam funkce vrátí `None`\n",
    "- pro seznam `[5]` vrátí `0`\n",
    "- pro seznam `[1, 2, 3, 4, 5]` vrátí `2` (rozptyl této skupiny čísel)\n",
    "- pro seznamy obsahující nečíselné hodnoty by měla funkce vyhodit chybu (otestujte například na `str`)\n"
   ]
  }
 ],
 "metadata": {
  "kernelspec": {
   "display_name": "Python 3",
   "language": "python",
   "name": "python3"
  },
  "language_info": {
   "codemirror_mode": {
    "name": "ipython",
    "version": 3
   },
   "file_extension": ".py",
   "mimetype": "text/x-python",
   "name": "python",
   "nbconvert_exporter": "python",
   "pygments_lexer": "ipython3",
   "version": "3.10.12"
  }
 },
 "nbformat": 4,
 "nbformat_minor": 2
}
