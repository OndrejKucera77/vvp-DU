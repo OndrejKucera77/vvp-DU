{
 "cells": [
  {
   "cell_type": "markdown",
   "metadata": {},
   "source": [
    "# Úkoly:\n",
    "1. Pomocí Numpy a Numby napište maticové násobení dvou čtvercových matic.\n",
    "    - Výsledek ukládejte do předem vytvořené matice C, tedy funkce bude mít tvar `def matrix_multiplication(A, B, C)`.\n",
    "    - Zakompilujte funkci a na maticích o velikosti 1000x1000 změřte čas výpočtu maticového násobení.\n",
    "    - Porovnejte výsledek s výsledkem z Numpy.\n"
   ]
  },
  {
   "cell_type": "code",
   "execution_count": 13,
   "metadata": {},
   "outputs": [],
   "source": [
    "import numpy as np\n",
    "from numba import jit, prange\n",
    "\n",
    "def matrix_multiplication(A, B, C):\n",
    "    for i in range(A.shape[0]):\n",
    "        for j in range(B.shape[1]):\n",
    "            for k in range(A.shape[1]):\n",
    "                C[i, j] += A[i, k] * B[k, j]\n",
    "\n",
    "matrix_multiplication = jit(matrix_multiplication)"
   ]
  },
  {
   "cell_type": "code",
   "execution_count": 15,
   "metadata": {},
   "outputs": [],
   "source": [
    "A = np.random.rand(1000, 1000)\n",
    "B = np.random.rand(1000, 1000)\n",
    "C2 = A @ B"
   ]
  },
  {
   "cell_type": "code",
   "execution_count": 20,
   "metadata": {},
   "outputs": [
    {
     "name": "stdout",
     "output_type": "stream",
     "text": [
      "True\n"
     ]
    }
   ],
   "source": [
    "C = np.zeros((1000, 1000))\n",
    "matrix_multiplication(A, B, C)\n",
    "print(np.allclose(C, C2))"
   ]
  },
  {
   "cell_type": "markdown",
   "metadata": {},
   "source": [
    "\n",
    "2. Upravte kód tak, aby výpočet probíhal v tzv. Chunk módu. To znamená, že výpočet bude rozdělen do menších bloků, které budou postupně počítány. Výsledek bude stejný jako v bodě 1, ale výpočet bude probíhat v menších blocích.\n",
    "    - výsledný kód bude mít 6 vnořených for cyklů \n",
    "        - nejprve 3 přes chunky v každé z OS (i,j,k)\n",
    "        - ve vnitř 3 cykly přes prvky v každém chunku\n",
    "    - zakompilujte, očasujte, a porovnejte s výsledkem z bodu 1 a s výsledkem z Numpy.\n"
   ]
  },
  {
   "cell_type": "code",
   "execution_count": 23,
   "metadata": {},
   "outputs": [],
   "source": [
    "def matrix_multiplication_2(A, B, C):\n",
    "    for i in prange(A.shape[0]):\n",
    "        for j in prange(B.shape[1]):\n",
    "            for k in prange(A.shape[1]):\n",
    "                C[i, j] += A[i, k] * B[k, j]\n",
    "\n",
    "matrix_multiplication_2 = jit(matrix_multiplication_2)"
   ]
  },
  {
   "cell_type": "code",
   "execution_count": 24,
   "metadata": {},
   "outputs": [
    {
     "name": "stdout",
     "output_type": "stream",
     "text": [
      "True\n"
     ]
    }
   ],
   "source": [
    "C = np.zeros((1000, 1000))\n",
    "matrix_multiplication_2(A, B, C)\n",
    "print(np.allclose(C, C2))"
   ]
  },
  {
   "cell_type": "markdown",
   "metadata": {},
   "source": [
    "\n",
    "3. Upravte funkci tak ať výpočet probíhá paralelně, otestujte jaký vliv má když jednotlivé z vnějších smyček nastavíte jako paralelní.\n",
    "    - opět porovnejte výsledky s výsledkem z Numpy a s výsledkem z bodu 1 a 2."
   ]
  },
  {
   "cell_type": "code",
   "execution_count": 25,
   "metadata": {},
   "outputs": [],
   "source": [
    "def matrix_multiplication_3(A, B, C):\n",
    "    chunk = 167\n",
    "    for ic in prange(A.shape[0] // chunk + 1):\n",
    "        for jc in prange(B.shape[1] // chunk + 1):\n",
    "            for kc in prange(A.shape[1] // chunk + 1):\n",
    "                for i in prange(ic * chunk, (ic+1) * chunk):\n",
    "                    for j in prange(jc * chunk, (jc+1) * chunk):\n",
    "                        for k in prange(kc * chunk, (kc+1)*chunk):\n",
    "                            C[i, j] += A[i, k] * B[k, j]\n",
    "\n",
    "matrix_multiplication_3 = jit(matrix_multiplication_3)"
   ]
  },
  {
   "cell_type": "code",
   "execution_count": 26,
   "metadata": {},
   "outputs": [
    {
     "ename": "",
     "evalue": "",
     "output_type": "error",
     "traceback": [
      "\u001b[1;31mThe Kernel crashed while executing code in the current cell or a previous cell. \n",
      "\u001b[1;31mPlease review the code in the cell(s) to identify a possible cause of the failure. \n",
      "\u001b[1;31mClick <a href='https://aka.ms/vscodeJupyterKernelCrash'>here</a> for more info. \n",
      "\u001b[1;31mView Jupyter <a href='command:jupyter.viewOutput'>log</a> for further details."
     ]
    }
   ],
   "source": [
    "C = np.zeros((1000, 1000))\n",
    "matrix_multiplication_3(A, B, C)\n",
    "print(np.allclose(C, C2))"
   ]
  }
 ],
 "metadata": {
  "kernelspec": {
   "display_name": ".venv",
   "language": "python",
   "name": "python3"
  },
  "language_info": {
   "codemirror_mode": {
    "name": "ipython",
    "version": 3
   },
   "file_extension": ".py",
   "mimetype": "text/x-python",
   "name": "python",
   "nbconvert_exporter": "python",
   "pygments_lexer": "ipython3",
   "version": "3.10.12"
  }
 },
 "nbformat": 4,
 "nbformat_minor": 2
}
