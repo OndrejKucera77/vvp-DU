{
 "cells": [
  {
   "attachments": {},
   "cell_type": "markdown",
   "metadata": {},
   "source": [
    "# Úkoly\n",
    "\n",
    "## Indexování a řezání\n",
    "\n",
    "- Vytvořte NumPy pole s názvem `a` obsahující čísla od 1 do 10.\n",
    "- Vytvořte 2D NumPy pole s názvem `b` o rozměrech 3x3 a naplňte ho libovolnými čísly.\n"
   ]
  },
  {
   "cell_type": "code",
   "execution_count": 46,
   "metadata": {},
   "outputs": [
    {
     "name": "stdout",
     "output_type": "stream",
     "text": [
      "[ 1  2  3  4  5  6  7  8  9 10]\n",
      "[[-8 -5 -5]\n",
      " [ 2  7  6]\n",
      " [ 9  2  6]]\n"
     ]
    }
   ],
   "source": [
    "import numpy as np\n",
    "a = np.arange(1, 11)\n",
    "b = np.random.randint(-9, 10, (3, 3)) # :D\n",
    "print(a)\n",
    "print(b)"
   ]
  },
  {
   "cell_type": "markdown",
   "metadata": {},
   "source": [
    "\n",
    "1. Vyberte z pole `a` třetí a čtvrtý prvek.\n"
   ]
  },
  {
   "cell_type": "code",
   "execution_count": 6,
   "metadata": {},
   "outputs": [
    {
     "data": {
      "text/plain": [
       "array([4, 5])"
      ]
     },
     "execution_count": 6,
     "metadata": {},
     "output_type": "execute_result"
    }
   ],
   "source": [
    "a[3:5]"
   ]
  },
  {
   "cell_type": "markdown",
   "metadata": {},
   "source": [
    "\n",
    "2. Vyberte z pole `a` všechny sudá čísla.\n"
   ]
  },
  {
   "cell_type": "code",
   "execution_count": 8,
   "metadata": {},
   "outputs": [
    {
     "data": {
      "text/plain": [
       "array([ 2,  4,  6,  8, 10])"
      ]
     },
     "execution_count": 8,
     "metadata": {},
     "output_type": "execute_result"
    }
   ],
   "source": [
    "a[1::2]"
   ]
  },
  {
   "cell_type": "markdown",
   "metadata": {},
   "source": [
    "\n",
    "3. Obraťte vektor `a` (první prvek se stane posledním).\n"
   ]
  },
  {
   "cell_type": "code",
   "execution_count": 9,
   "metadata": {},
   "outputs": [
    {
     "data": {
      "text/plain": [
       "array([10,  9,  8,  7,  6,  5,  4,  3,  2,  1])"
      ]
     },
     "execution_count": 9,
     "metadata": {},
     "output_type": "execute_result"
    }
   ],
   "source": [
    "a[::-1]"
   ]
  },
  {
   "cell_type": "markdown",
   "metadata": {},
   "source": [
    "\n",
    "5. Vyberte z pole `b` druhý řádek.\n"
   ]
  },
  {
   "cell_type": "code",
   "execution_count": 47,
   "metadata": {},
   "outputs": [
    {
     "data": {
      "text/plain": [
       "array([2, 7, 6])"
      ]
     },
     "execution_count": 47,
     "metadata": {},
     "output_type": "execute_result"
    }
   ],
   "source": [
    "b[1]"
   ]
  },
  {
   "cell_type": "markdown",
   "metadata": {},
   "source": [
    "\n",
    "6. Vyberte z pole `b` diagonální prvky.\n"
   ]
  },
  {
   "cell_type": "code",
   "execution_count": 48,
   "metadata": {},
   "outputs": [
    {
     "name": "stdout",
     "output_type": "stream",
     "text": [
      "[-8  7  6]\n",
      "[-8  7  6]\n"
     ]
    }
   ],
   "source": [
    "print(b[np.eye(b.shape[0], dtype=bool)]) # řezem\n",
    "print(np.diag(b)) # funkcí"
   ]
  },
  {
   "cell_type": "markdown",
   "metadata": {},
   "source": [
    "\n",
    "7. Změňte hodnotu prvku na druhém řádku, prvním sloupci v `b` na 100.\n"
   ]
  },
  {
   "cell_type": "code",
   "execution_count": 49,
   "metadata": {},
   "outputs": [],
   "source": [
    "b[1, 0] = 100"
   ]
  },
  {
   "cell_type": "markdown",
   "metadata": {},
   "source": [
    "\n",
    "8. Vyberte z pole `b` všechny prvky větší než 5.\n"
   ]
  },
  {
   "cell_type": "code",
   "execution_count": 57,
   "metadata": {},
   "outputs": [
    {
     "name": "stdout",
     "output_type": "stream",
     "text": [
      "[100   7   6   9   6]\n",
      "[100   7   6   9   6]\n"
     ]
    }
   ],
   "source": [
    "print(b[np.reshape([i > 5 for i in b.flat], b.shape)]) # kulantní řešení\n",
    "print(b[b > 5]) # Pythonova zkratka"
   ]
  },
  {
   "cell_type": "markdown",
   "metadata": {},
   "source": [
    "\n",
    "9. Vytvořte masku pro pole `b`, která bude True pro všechny prvky menší než 3.\n"
   ]
  },
  {
   "cell_type": "code",
   "execution_count": 58,
   "metadata": {},
   "outputs": [],
   "source": [
    "maska = b < 3"
   ]
  },
  {
   "cell_type": "markdown",
   "metadata": {},
   "source": [
    "\n",
    "10. Pomocí masky vyberte z pole `b` všechny prvky menší než 3.\n",
    "\n",
    "\n"
   ]
  },
  {
   "cell_type": "code",
   "execution_count": 59,
   "metadata": {},
   "outputs": [
    {
     "data": {
      "text/plain": [
       "array([-8, -5, -5,  2])"
      ]
     },
     "execution_count": 59,
     "metadata": {},
     "output_type": "execute_result"
    }
   ],
   "source": [
    "b[maska]"
   ]
  },
  {
   "cell_type": "markdown",
   "metadata": {},
   "source": [
    "\n",
    "## View a copy\n",
    "\n",
    "- Vytvořte NumPy pole s názvem `a` a naplňte ho libovolnými čísly.\n"
   ]
  },
  {
   "cell_type": "code",
   "execution_count": 62,
   "metadata": {},
   "outputs": [
    {
     "name": "stdout",
     "output_type": "stream",
     "text": [
      "[[ 0  9  3  6  9]\n",
      " [-9 -9  1  8 -2]\n",
      " [ 7 -7  5 -4 -7]\n",
      " [-1 -8 -3  1  2]\n",
      " [ 4 -8  0 -3  7]]\n"
     ]
    }
   ],
   "source": [
    "a = np.random.randint(-9, 10, (5, 5))\n",
    "print(a)"
   ]
  },
  {
   "cell_type": "markdown",
   "metadata": {},
   "source": [
    "\n",
    "1. Pomocí `a` vytvořte proměnnou `b` obsahující řez druhého řádku a všech sloupců pole `a`.\n"
   ]
  },
  {
   "cell_type": "code",
   "execution_count": 64,
   "metadata": {},
   "outputs": [
    {
     "name": "stdout",
     "output_type": "stream",
     "text": [
      "[-9 -9  1  8 -2]\n"
     ]
    }
   ],
   "source": [
    "b = a[1]\n",
    "print(b)"
   ]
  },
  {
   "cell_type": "markdown",
   "metadata": {},
   "source": [
    "\n",
    "3. Změňte hodnotu prvního prvku v `b`. Jak se tato změna projeví v `a`?\n"
   ]
  },
  {
   "cell_type": "code",
   "execution_count": 82,
   "metadata": {},
   "outputs": [
    {
     "name": "stdout",
     "output_type": "stream",
     "text": [
      "[10 -9  1  8 -2]\n",
      "[[ 0  9  3  6  9]\n",
      " [10 -9  1  8 -2]\n",
      " [ 7 -7  5 -4 -7]\n",
      " [-1 -8 -3  1  2]\n",
      " [ 4 -8  0 -3  7]]\n"
     ]
    }
   ],
   "source": [
    "b[0] = 10\n",
    "print(b)\n",
    "print(a)"
   ]
  },
  {
   "cell_type": "markdown",
   "metadata": {},
   "source": [
    "\n",
    "4. Vytvořte proměnnou `c` obsahující **kopii** druhého řádku pole `a`.\n"
   ]
  },
  {
   "cell_type": "code",
   "execution_count": 83,
   "metadata": {},
   "outputs": [
    {
     "name": "stdout",
     "output_type": "stream",
     "text": [
      "[10 -9  1  8 -2]\n"
     ]
    }
   ],
   "source": [
    "c = np.copy(a[1])\n",
    "print(c)"
   ]
  },
  {
   "cell_type": "markdown",
   "metadata": {},
   "source": [
    "\n",
    "5. Změňte hodnotu prvního prvku v `c`. Jak se tato změna projeví v `a`?\n"
   ]
  },
  {
   "cell_type": "code",
   "execution_count": 91,
   "metadata": {},
   "outputs": [
    {
     "name": "stdout",
     "output_type": "stream",
     "text": [
      "[20 -9  1  8 -2]\n",
      "[[ 0  9  3  6  9]\n",
      " [10 -9  1  8 -2]\n",
      " [ 7 -7  5 -4 -7]\n",
      " [-1 -8 -3  1  2]\n",
      " [ 4 -8  0 -3  7]]\n"
     ]
    }
   ],
   "source": [
    "c[0] = 20\n",
    "print(c)\n",
    "print(a)"
   ]
  },
  {
   "cell_type": "markdown",
   "metadata": {},
   "source": [
    "\n",
    "6. Zjistěte, zda `b` a `c` sdílí stejná data v paměti.\n"
   ]
  },
  {
   "cell_type": "code",
   "execution_count": 102,
   "metadata": {},
   "outputs": [
    {
     "name": "stdout",
     "output_type": "stream",
     "text": [
      "True\n"
     ]
    }
   ],
   "source": [
    "print(id(b.data) == id(c.data))"
   ]
  },
  {
   "cell_type": "markdown",
   "metadata": {},
   "source": [
    "\n",
    "7. Vytvořte proměnnou `d` obsahující diagonální prvky pole `a`.\n"
   ]
  },
  {
   "cell_type": "code",
   "execution_count": 97,
   "metadata": {},
   "outputs": [
    {
     "name": "stdout",
     "output_type": "stream",
     "text": [
      "[[ 0  0  0  0  0]\n",
      " [ 0 -9  0  0  0]\n",
      " [ 0  0  5  0  0]\n",
      " [ 0  0  0  1  0]\n",
      " [ 0  0  0  0  7]]\n"
     ]
    }
   ],
   "source": [
    "d = np.diagflat(np.diag(a))\n",
    "print(d)"
   ]
  },
  {
   "cell_type": "markdown",
   "metadata": {},
   "source": [
    "\n",
    "8. Změňte hodnotu prvního diagonálního prvku v `d`. Jak se tato změna projeví v `a`?\n",
    "\n"
   ]
  },
  {
   "cell_type": "code",
   "execution_count": 98,
   "metadata": {},
   "outputs": [
    {
     "name": "stdout",
     "output_type": "stream",
     "text": [
      "[[30  0  0  0  0]\n",
      " [ 0 -9  0  0  0]\n",
      " [ 0  0  5  0  0]\n",
      " [ 0  0  0  1  0]\n",
      " [ 0  0  0  0  7]]\n",
      "[[ 0  9  3  6  9]\n",
      " [10 -9  1  8 -2]\n",
      " [ 7 -7  5 -4 -7]\n",
      " [-1 -8 -3  1  2]\n",
      " [ 4 -8  0 -3  7]]\n"
     ]
    }
   ],
   "source": [
    "d[0, 0] = 30\n",
    "print(d)\n",
    "print(a)"
   ]
  },
  {
   "cell_type": "markdown",
   "metadata": {},
   "source": [
    "9. Vytvořte proměnnou `e` obsahující transpozici pole `a`. Jak je to s pamětí, jedná se o kopii nebo o \"array view\" ověřte pomocí atributu base.\n"
   ]
  },
  {
   "cell_type": "code",
   "execution_count": 101,
   "metadata": {},
   "outputs": [
    {
     "name": "stdout",
     "output_type": "stream",
     "text": [
      "True\n"
     ]
    }
   ],
   "source": [
    "e = a.transpose()\n",
    "print(id(e.base) == id(a))"
   ]
  },
  {
   "cell_type": "markdown",
   "metadata": {},
   "source": [
    "\n",
    "\n",
    "## Lineární algebra\n",
    "\n",
    "1. Vynásobte matici 5x3 maticí 3x2 (maticový součin).\n"
   ]
  },
  {
   "cell_type": "code",
   "execution_count": 103,
   "metadata": {},
   "outputs": [
    {
     "name": "stdout",
     "output_type": "stream",
     "text": [
      "[[0.70468176 0.40780655 0.88933343]\n",
      " [0.99043247 0.23337183 0.14759629]\n",
      " [0.0471873  0.58444725 0.56788499]\n",
      " [0.38057055 0.1016915  0.48785482]\n",
      " [0.09376679 0.3707156  0.12674947]]\n",
      "[[0.31611122 0.5596086 ]\n",
      " [0.67503516 0.57808189]\n",
      " [0.50042701 0.72058261]]\n",
      "[[0.94308804 1.27092976]\n",
      " [0.54448218 0.79551787]\n",
      " [0.69362387 0.77347284]\n",
      " [0.43308369 0.62329626]\n",
      " [0.34331566 0.35811014]]\n"
     ]
    }
   ],
   "source": [
    "A = np.random.rand(5, 3)\n",
    "B = np.random.rand(3, 2)\n",
    "\n",
    "print(A)\n",
    "print(B)\n",
    "print(A @ B)"
   ]
  },
  {
   "cell_type": "markdown",
   "metadata": {},
   "source": [
    "2. Vezměme náhodnou matici 10x2 představující kartézské souřadnice, převeďte je na polární souřadnice.\n"
   ]
  },
  {
   "cell_type": "code",
   "execution_count": 105,
   "metadata": {},
   "outputs": [
    {
     "name": "stdout",
     "output_type": "stream",
     "text": [
      "[[0.91010439 0.01121942]\n",
      " [0.20409529 0.17902773]\n",
      " [0.66496626 0.04881413]\n",
      " [0.87500411 0.71298476]\n",
      " [0.06252001 0.5418064 ]\n",
      " [0.37379997 0.50077627]\n",
      " [0.28110435 0.3838078 ]\n",
      " [0.58758557 0.42864965]\n",
      " [0.8944473  0.75889042]\n",
      " [0.42907814 0.71053551]]\n",
      "[[0.91017354 0.27148815]\n",
      " [0.66675554 1.12870699]\n",
      " [0.54540162 0.62490263]\n",
      " [0.47573951 0.72732202]\n",
      " [1.17300923 0.83004142]\n",
      " [0.01232699 0.72006176]\n",
      " [0.073277   0.68372198]\n",
      " [1.45591264 0.92957683]\n",
      " [0.93864873 0.63025814]\n",
      " [0.70359132 1.02752881]]\n"
     ]
    }
   ],
   "source": [
    "kartezske = np.random.rand(10, 2)\n",
    "print(kartezske)\n",
    "\n",
    "komplexni = kartezske[:, 0] + kartezske[:, 1] * 1j\n",
    "polarni = np.reshape([np.abs(komplexni), np.angle(komplexni)], (10, 2))\n",
    "print(polarni)"
   ]
  },
  {
   "cell_type": "markdown",
   "metadata": {},
   "source": [
    "3. Vzhledem ke dvěma polím X a Y zkonstruujte Cauchyho matici C (Cij =1/(xi - yj)).\n"
   ]
  },
  {
   "cell_type": "code",
   "execution_count": 108,
   "metadata": {},
   "outputs": [
    {
     "name": "stdout",
     "output_type": "stream",
     "text": [
      "[0.94046769 0.32406274 0.3298255 ]\n",
      "[0.72883679 0.73655855 0.80986472 0.07088067]\n",
      "[[  4.72520807  -1.87740749  -0.67153463   1.52219747]\n",
      " [-12.38983692  -1.21213352  -0.5613346    2.74271081]\n",
      " [  3.83671398  -2.06765105  -0.69438771   1.41652329]]\n"
     ]
    }
   ],
   "source": [
    "X = np.random.rand(3)\n",
    "Y = np.random.rand(4)\n",
    "\n",
    "C = np.zeros((X.shape[0], Y.shape[0]))\n",
    "for i, x in enumerate(X):\n",
    "    for j, y in enumerate(Y):\n",
    "        C[i, j] = 1/(x*(i+1) - y*(j+1))\n",
    "\n",
    "print(X)\n",
    "print(Y)\n",
    "print(C)"
   ]
  },
  {
   "cell_type": "markdown",
   "metadata": {},
   "source": [
    "4. Uvažujme náhodný vektor o tvaru (100,2) představující souřadnice, najděte vzdálenosti bod po bodu.\n"
   ]
  },
  {
   "cell_type": "code",
   "execution_count": 112,
   "metadata": {},
   "outputs": [
    {
     "name": "stdout",
     "output_type": "stream",
     "text": [
      "[[0.         0.75360748 0.41352137 ... 0.3583777  0.42559202 0.53797113]\n",
      " [0.75360748 0.         0.51712033 ... 0.39522984 0.3969472  0.22884498]\n",
      " [0.41352137 0.51712033 0.         ... 0.27408773 0.13235543 0.40150733]\n",
      " ...\n",
      " [0.3583777  0.39522984 0.27408773 ... 0.         0.16802206 0.18725861]\n",
      " [0.42559202 0.3969472  0.13235543 ... 0.16802206 0.         0.26952708]\n",
      " [0.53797113 0.22884498 0.40150733 ... 0.18725861 0.26952708 0.        ]]\n"
     ]
    }
   ],
   "source": [
    "body = np.random.rand(100, 2)\n",
    "# print(body)\n",
    "\n",
    "vzdalenosti = np.zeros((100, 100))\n",
    "for i, (x1, y1) in enumerate(body):\n",
    "    for j, (x2, y2) in enumerate(body):\n",
    "        vzdalenosti[i, j] = np.sqrt((x1-x2)**2 + (y1-y2)**2)\n",
    "\n",
    "print(vzdalenosti)"
   ]
  },
  {
   "cell_type": "markdown",
   "metadata": {},
   "source": [
    "5. Ověřte empiricky na náhodné matici, že platí $(AB)^T = B^T A^T$\n"
   ]
  },
  {
   "cell_type": "code",
   "execution_count": 120,
   "metadata": {},
   "outputs": [
    {
     "name": "stdout",
     "output_type": "stream",
     "text": [
      "[[0. 0. 0. 0. 0. 0. 0. 0. 0. 0.]\n",
      " [0. 0. 0. 0. 0. 0. 0. 0. 0. 0.]\n",
      " [0. 0. 0. 0. 0. 0. 0. 0. 0. 0.]\n",
      " [0. 0. 0. 0. 0. 0. 0. 0. 0. 0.]\n",
      " [0. 0. 0. 0. 0. 0. 0. 0. 0. 0.]\n",
      " [0. 0. 0. 0. 0. 0. 0. 0. 0. 0.]\n",
      " [0. 0. 0. 0. 0. 0. 0. 0. 0. 0.]\n",
      " [0. 0. 0. 0. 0. 0. 0. 0. 0. 0.]\n",
      " [0. 0. 0. 0. 0. 0. 0. 0. 0. 0.]\n",
      " [0. 0. 0. 0. 0. 0. 0. 0. 0. 0.]]\n",
      "True\n"
     ]
    }
   ],
   "source": [
    "n = 10\n",
    "A = np.random.rand(n, n)\n",
    "B = np.random.rand(n, n)\n",
    "print(B.T @ A.T - (A @ B).T)\n",
    "print(np.allclose(B.T @ A.T, (A @ B).T))"
   ]
  },
  {
   "cell_type": "markdown",
   "metadata": {},
   "source": [
    "6. Pro náhodné 1D vektory $u, v$ vypočítejte dyadický součin $uv$ $$(uv)_{ij} = u_iv_j$$ pomocí `newaxis`. Zkontrolujte s `np.outer(u, v)`\n"
   ]
  },
  {
   "cell_type": "code",
   "execution_count": 125,
   "metadata": {},
   "outputs": [
    {
     "name": "stdout",
     "output_type": "stream",
     "text": [
      "[0.84040688 0.37173732 0.75590216 0.17137779 0.3409862  0.69723953\n",
      " 0.13817366 0.73715669 0.16658166 0.81563193]\n",
      "[0.91691872 0.55581629 0.14783505 0.70113475 0.6478404  0.79748771\n",
      " 0.61803803 0.68194351 0.96558455 0.06904475]\n",
      "[[0.77058481 0.46711183 0.1242416  0.58923847 0.54444953 0.67021416\n",
      "  0.51940341 0.57311002 0.8114839  0.05802568]\n",
      " [0.34085291 0.20661766 0.05495581 0.26063795 0.24082645 0.29645594\n",
      "  0.2297478  0.25350385 0.35894382 0.02566651]\n",
      " [0.69310084 0.42014273 0.11174883 0.52998927 0.48970395 0.60282268\n",
      "  0.46717628 0.51548257 0.72988744 0.05219107]\n",
      " [0.15713951 0.09525457 0.02533565 0.12015893 0.11102546 0.13667168\n",
      "  0.10591799 0.11686997 0.16547975 0.01183274]\n",
      " [0.31265663 0.18952568 0.05040971 0.23907727 0.22090463 0.2719323\n",
      "  0.21074244 0.23253332 0.329251   0.02354331]\n",
      " [0.63931198 0.38753709 0.10307644 0.48885886 0.45169993 0.55603995\n",
      "  0.43092054 0.47547797 0.67324372 0.04814073]\n",
      " [0.12669402 0.07679917 0.02042691 0.09687836 0.08951448 0.1101918\n",
      "  0.08539658 0.09422663 0.13341835 0.00954017]\n",
      " [0.67591277 0.4097237  0.1089776  0.51684617 0.47755988 0.5878734\n",
      "  0.45559087 0.50269922 0.71178711 0.0508968 ]\n",
      " [0.15274184 0.0925888  0.02462661 0.11679619 0.10791833 0.13284683\n",
      "  0.1029538  0.11359928 0.16084868 0.01150159]\n",
      " [0.74786819 0.45334151 0.12057899 0.57186789 0.52839931 0.65045644\n",
      "  0.50409155 0.5562149  0.78756159 0.0563151 ]]\n"
     ]
    }
   ],
   "source": [
    "u = np.random.rand(n)\n",
    "v = np.random.rand(n)\n",
    "print(u)\n",
    "print(v)\n",
    "\n",
    "uv = np.zeros((n, n))\n",
    "for i, u1 in enumerate(u):\n",
    "    for j, v1 in enumerate(v):\n",
    "        uv[i, j] = u1 * v1\n",
    "print(uv)"
   ]
  },
  {
   "cell_type": "markdown",
   "metadata": {},
   "source": [
    "7. Vypočítejte hodnost matice o velikosti 5x6 naplněnou hodnotami 0, 1, 2, 3 ... . Byly by jste schopni zdůvodnit proč je hodnost taková jaká je?\n"
   ]
  },
  {
   "cell_type": "code",
   "execution_count": 132,
   "metadata": {},
   "outputs": [
    {
     "name": "stdout",
     "output_type": "stream",
     "text": [
      "[[ 1  2  3  4  5  6]\n",
      " [ 7  8  9 10 11 12]\n",
      " [13 14 15 16 17 18]\n",
      " [19 20 21 22 23 24]\n",
      " [25 26 27 28 29 30]]\n",
      "2\n"
     ]
    }
   ],
   "source": [
    "A = np.reshape(np.arange(1, 31), (5, 6))\n",
    "print(A)\n",
    "print(np.linalg.matrix_rank(A))"
   ]
  },
  {
   "cell_type": "markdown",
   "metadata": {},
   "source": [
    "\n",
    "## Funkce nad poli\n",
    "1. Vytvořte pole 10x10 s náhodnými hodnotami a najděte minimální a maximální hodnoty.\n"
   ]
  },
  {
   "cell_type": "code",
   "execution_count": 138,
   "metadata": {},
   "outputs": [
    {
     "name": "stdout",
     "output_type": "stream",
     "text": [
      "[[0.89392467 0.99739185 0.24554491 0.02940449 0.62985709 0.33632713\n",
      "  0.3021893  0.83509812 0.8127299  0.42269599]\n",
      " [0.06116517 0.49267985 0.70231271 0.37568374 0.53615944 0.8472891\n",
      "  0.52111243 0.13263777 0.90194024 0.91896013]\n",
      " [0.13945025 0.23829925 0.66587543 0.94061675 0.68083801 0.1910811\n",
      "  0.47824633 0.87955786 0.99936606 0.19901586]\n",
      " [0.89328322 0.2461641  0.6163858  0.76666593 0.49789424 0.69291075\n",
      "  0.22047731 0.99220911 0.6980914  0.69936143]\n",
      " [0.07908471 0.59117152 0.99062409 0.7973333  0.11147828 0.77850221\n",
      "  0.39235351 0.97362783 0.3624768  0.69815604]\n",
      " [0.07150425 0.68983059 0.17045026 0.33556527 0.34429242 0.41828475\n",
      "  0.42879926 0.6709893  0.45291994 0.02480647]\n",
      " [0.76859565 0.10031037 0.28301579 0.57221579 0.37421996 0.11595015\n",
      "  0.76647141 0.77773132 0.39278355 0.39699785]\n",
      " [0.76967205 0.66310881 0.77946599 0.75903567 0.95583778 0.68273914\n",
      "  0.97998984 0.94691235 0.119659   0.70462068]\n",
      " [0.33653618 0.68459725 0.86190304 0.89031176 0.90247241 0.82047146\n",
      "  0.82703046 0.32250168 0.73182133 0.70401593]\n",
      " [0.79982749 0.55386686 0.89634623 0.13076557 0.96980217 0.94806552\n",
      "  0.22262688 0.50940869 0.589692   0.82213918]]\n",
      "0.024806473770975113\n",
      "0.9993660572162507\n"
     ]
    }
   ],
   "source": [
    "pole = np.random.rand(10, 10)\n",
    "print(pole)\n",
    "\n",
    "print(pole.min())\n",
    "print(pole.max())"
   ]
  },
  {
   "cell_type": "markdown",
   "metadata": {},
   "source": [
    "2. Vytvořte náhodný vektor o velikosti 30 a najděte střední hodnotu.\n",
    "\n"
   ]
  },
  {
   "cell_type": "code",
   "execution_count": 139,
   "metadata": {},
   "outputs": [
    {
     "name": "stdout",
     "output_type": "stream",
     "text": [
      "0.43437202385401336\n"
     ]
    }
   ],
   "source": [
    "vektor = np.random.rand(30)\n",
    "print(vektor.mean())"
   ]
  },
  {
   "cell_type": "markdown",
   "metadata": {},
   "source": [
    "3. Uvažujme celočíselný vektor Z, které z těchto výrazů jsou platné?\n",
    "   ```python\n",
    "   Z**Z\n",
    "   2 << Z >> 2\n",
    "   Z <- Z\n",
    "   1j*Z\n",
    "   Z/1/1\n",
    "   Z<Z>Z\n",
    "   ```\n",
    "\n"
   ]
  },
  {
   "cell_type": "code",
   "execution_count": 151,
   "metadata": {},
   "outputs": [
    {
     "name": "stdout",
     "output_type": "stream",
     "text": [
      "[6 2 6 0 0 0 5 3 1 3]\n",
      "[46656     4 46656     1     1     1  3125    27     1    27]\n",
      "[32  2 32  0  0  0 16  4  1  4]\n",
      "[False False False False False False False False False False]\n",
      "[0.+6.j 0.+2.j 0.+6.j 0.+0.j 0.+0.j 0.+0.j 0.+5.j 0.+3.j 0.+1.j 0.+3.j]\n",
      "[6. 2. 6. 0. 0. 0. 5. 3. 1. 3.]\n"
     ]
    },
    {
     "ename": "ValueError",
     "evalue": "The truth value of an array with more than one element is ambiguous. Use a.any() or a.all()",
     "output_type": "error",
     "traceback": [
      "\u001b[0;31m---------------------------------------------------------------------------\u001b[0m",
      "\u001b[0;31mValueError\u001b[0m                                Traceback (most recent call last)",
      "\u001b[0;32m/tmp/ipykernel_4041/3937842505.py\u001b[0m in \u001b[0;36m<module>\u001b[0;34m\u001b[0m\n\u001b[1;32m      7\u001b[0m \u001b[0mprint\u001b[0m\u001b[0;34m(\u001b[0m\u001b[0;36m1j\u001b[0m \u001b[0;34m*\u001b[0m \u001b[0mZ\u001b[0m\u001b[0;34m)\u001b[0m\u001b[0;34m\u001b[0m\u001b[0;34m\u001b[0m\u001b[0m\n\u001b[1;32m      8\u001b[0m \u001b[0mprint\u001b[0m\u001b[0;34m(\u001b[0m\u001b[0mZ\u001b[0m\u001b[0;34m/\u001b[0m\u001b[0;36m1\u001b[0m\u001b[0;34m/\u001b[0m\u001b[0;36m1\u001b[0m\u001b[0;34m)\u001b[0m\u001b[0;34m\u001b[0m\u001b[0;34m\u001b[0m\u001b[0m\n\u001b[0;32m----> 9\u001b[0;31m \u001b[0mprint\u001b[0m\u001b[0;34m(\u001b[0m\u001b[0mZ\u001b[0m\u001b[0;34m<\u001b[0m\u001b[0mZ\u001b[0m\u001b[0;34m>\u001b[0m\u001b[0mZ\u001b[0m\u001b[0;34m)\u001b[0m\u001b[0;34m\u001b[0m\u001b[0;34m\u001b[0m\u001b[0m\n\u001b[0m",
      "\u001b[0;31mValueError\u001b[0m: The truth value of an array with more than one element is ambiguous. Use a.any() or a.all()"
     ]
    }
   ],
   "source": [
    "Z = np.random.randint(0, 7, 10)\n",
    "print(Z)\n",
    "\n",
    "print(Z**Z)\n",
    "print(2 << Z >> 2)\n",
    "print(Z < -Z)\n",
    "print(1j * Z)\n",
    "print(Z/1/1)\n",
    "print(Z<Z>Z)"
   ]
  },
  {
   "cell_type": "markdown",
   "metadata": {},
   "source": [
    "4. Jaký je výsledek následujícího výrazu? \n",
    "   ```python\n",
    "   0 * np.nan\n",
    "   np.nan == np.nan\n",
    "   np.inf > np.nan\n",
    "   np.nan - np.nan\n",
    "   np.nan in set([np.nan])\n",
    "   0.3 == 3 * 0.1\n",
    "   ```\n"
   ]
  },
  {
   "cell_type": "code",
   "execution_count": 159,
   "metadata": {},
   "outputs": [
    {
     "name": "stdout",
     "output_type": "stream",
     "text": [
      "nan\n",
      "False\n",
      "False\n",
      "nan\n",
      "True\n",
      "False\n"
     ]
    }
   ],
   "source": [
    "print(0 * np.nan)\n",
    "print(np.nan == np.nan)\n",
    "print(np.inf > np.nan)\n",
    "print(np.nan - np.nan)\n",
    "print(np.nan in {np.nan})\n",
    "print(0.3 == 3 * 0.1)"
   ]
  },
  {
   "cell_type": "markdown",
   "metadata": {},
   "source": [
    "5. Jaké jsou výsledky následujících výrazů?\n",
    "   ```python\n",
    "   np.array(0) / np.array(0)\n",
    "   np.array(0) // np.array(0)\n",
    "   np.array([np.nan]).astype(int).astype(float)\n",
    "   ```\n"
   ]
  },
  {
   "cell_type": "code",
   "execution_count": 160,
   "metadata": {},
   "outputs": [
    {
     "name": "stdout",
     "output_type": "stream",
     "text": [
      "nan\n",
      "0\n",
      "[-9.22337204e+18]\n"
     ]
    },
    {
     "name": "stderr",
     "output_type": "stream",
     "text": [
      "/tmp/ipykernel_4041/3912170336.py:1: RuntimeWarning: invalid value encountered in true_divide\n",
      "  print(np.array(0) / np.array(0))\n",
      "/tmp/ipykernel_4041/3912170336.py:2: RuntimeWarning: divide by zero encountered in floor_divide\n",
      "  print(np.array(0) // np.array(0))\n"
     ]
    }
   ],
   "source": [
    "print(np.array(0) / np.array(0))\n",
    "print(np.array(0) // np.array(0))\n",
    "print(np.array([np.nan]).astype(int).astype(float))"
   ]
  },
  {
   "cell_type": "markdown",
   "metadata": {},
   "source": [
    "\n",
    "6. Jak najít společné (stejné) hodnoty mezi dvěma poli? \n"
   ]
  },
  {
   "cell_type": "code",
   "execution_count": 169,
   "metadata": {},
   "outputs": [
    {
     "data": {
      "text/plain": [
       "{1, 2, 3, 5}"
      ]
     },
     "execution_count": 169,
     "metadata": {},
     "output_type": "execute_result"
    }
   ],
   "source": [
    "set([1, 2, 3, 5, 3]) & set([3, 5, 4, 7, 3, 2, 2, 1])"
   ]
  },
  {
   "cell_type": "markdown",
   "metadata": {},
   "source": [
    "\n",
    "7. Jak vypočítat ((A+B)*(-A/2)) přímo v poli (bez kopírování)?\n",
    "\n"
   ]
  },
  {
   "cell_type": "code",
   "execution_count": 178,
   "metadata": {},
   "outputs": [
    {
     "name": "stdout",
     "output_type": "stream",
     "text": [
      "[[-0.00443753 -0.53208887 -0.60247543 -0.02726669 -0.64934572]\n",
      " [-0.19879503 -0.70594194 -0.03570243 -0.01929054 -0.13398392]\n",
      " [-0.25837217 -0.20115873 -0.05796958 -0.42104271 -0.16661653]\n",
      " [-0.07963898 -0.08861204 -0.18514277 -0.00262844 -0.0348363 ]\n",
      " [-0.0324163  -0.25041065 -0.7490399  -0.4899639  -0.0963724 ]]\n"
     ]
    }
   ],
   "source": [
    "A = np.random.rand(5, 5)\n",
    "B = np.random.rand(5, 5)\n",
    "print((A+B)*(-A/2))"
   ]
  },
  {
   "cell_type": "markdown",
   "metadata": {},
   "source": [
    "\n",
    "8. Vytvořte náhodný vektor o velikosti 10 a seřaďte ho.\n"
   ]
  },
  {
   "cell_type": "code",
   "execution_count": 175,
   "metadata": {},
   "outputs": [
    {
     "name": "stdout",
     "output_type": "stream",
     "text": [
      "[0.00275579 0.04621136 0.10772096 0.20074003 0.33226862 0.3763303\n",
      " 0.4478917  0.52534275 0.55939483 0.99069563]\n"
     ]
    }
   ],
   "source": [
    "v = np.random.rand(10)\n",
    "print(np.sort(v))"
   ]
  },
  {
   "cell_type": "markdown",
   "metadata": {},
   "source": [
    "\n",
    "9. Vezměme daný vektor, jak přidat 1 ke každému prvku indexovanému druhým vektorem (dejte pozor na opakované indexy)? \n",
    "\n"
   ]
  },
  {
   "cell_type": "code",
   "execution_count": 176,
   "metadata": {},
   "outputs": [
    {
     "name": "stdout",
     "output_type": "stream",
     "text": [
      "[0.99069563 1.00275579 0.4478917  1.3763303  0.52534275 0.55939483\n",
      " 1.10772096 0.04621136 0.33226862 0.20074003]\n"
     ]
    }
   ],
   "source": [
    "v[[1, 6, 3]] += 1\n",
    "print(v)"
   ]
  }
 ],
 "metadata": {
  "kernelspec": {
   "display_name": "Python 3",
   "language": "python",
   "name": "python3"
  },
  "language_info": {
   "codemirror_mode": {
    "name": "ipython",
    "version": 3
   },
   "file_extension": ".py",
   "mimetype": "text/x-python",
   "name": "python",
   "nbconvert_exporter": "python",
   "pygments_lexer": "ipython3",
   "version": "3.10.12"
  },
  "orig_nbformat": 4,
  "vscode": {
   "interpreter": {
    "hash": "e7370f93d1d0cde622a1f8e1c04877d8463912d04d973331ad4851f04de6915a"
   }
  }
 },
 "nbformat": 4,
 "nbformat_minor": 2
}
