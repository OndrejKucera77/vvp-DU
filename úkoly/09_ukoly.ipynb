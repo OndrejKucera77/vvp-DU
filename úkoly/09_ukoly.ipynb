{
 "cells": [
  {
   "attachments": {},
   "cell_type": "markdown",
   "metadata": {},
   "source": [
    "# Úkoly \n",
    "## Sympy"
   ]
  },
  {
   "cell_type": "markdown",
   "metadata": {},
   "source": [
    "1. Definice Symbolů\n",
    "   - Definujte symboly `a` a `b`.\n",
    "   - Definujte symboly `c` a `d` jako reálná kladná čísla.\n"
   ]
  },
  {
   "cell_type": "code",
   "execution_count": 6,
   "metadata": {},
   "outputs": [],
   "source": [
    "import sympy as sp\n",
    "from IPython.display import display\n",
    "\n",
    "sp.init_printing(use_latex=True)\n",
    "a, b = sp.symbols(\"a b\")\n",
    "c, d = sp.symbols(\"c d\", real=True, positive=True)"
   ]
  },
  {
   "cell_type": "markdown",
   "metadata": {},
   "source": [
    "\n",
    "2. Vytvoření Výrazu\n",
    "   - Vytvořte výraz $3a + 2b - 5$\n",
    "   - Vytvořte výraz $\\frac{a^2}{b^2} + \\cos(a^2 + b)^2 + \\sin(a^2 + b)^2$\n",
    "   - Vytiskněte oba výrazy jako LaTeXové výrazy.\n",
    "   - v obou výrazech nahraďte $a$ za $\\pi$ a $b$ za $2$ a vyhodnoťte výraz s přesností na 10 desetinných míst.\n"
   ]
  },
  {
   "cell_type": "code",
   "execution_count": 12,
   "metadata": {},
   "outputs": [
    {
     "data": {
      "image/png": "[encoded data removed]",
      "text/latex": [
       "$\\displaystyle 3 a + 2 b - 5$"
      ],
      "text/plain": [
       "3⋅a + 2⋅b - 5"
      ]
     },
     "metadata": {},
     "output_type": "display_data"
    },
    {
     "data": {
      "image/png": "[encoded data removed]",
      "text/latex": [
       "$\\displaystyle \\frac{a^{2}}{b^{2}} + \\sin^{2}{\\left(a^{2} + b \\right)} + \\cos^{2}{\\left(a^{2} + b \\right)}$"
      ],
      "text/plain": [
       " 2                              \n",
       "a       2⎛ 2    ⎞      2⎛ 2    ⎞\n",
       "── + sin ⎝a  + b⎠ + cos ⎝a  + b⎠\n",
       " 2                              \n",
       "b                               "
      ]
     },
     "metadata": {},
     "output_type": "display_data"
    },
    {
     "name": "stdout",
     "output_type": "stream",
     "text": [
      "8.424777961\n",
      "3.467401100\n"
     ]
    }
   ],
   "source": [
    "vyraz1 = 3*a + 2*b - 5\n",
    "vyraz2 = a**2 / b**2 + sp.cos(a**2 + b)**2 + sp.sin(a**2 + b)**2\n",
    "\n",
    "display(vyraz1)\n",
    "display(vyraz2)\n",
    "\n",
    "sub1 = vyraz1.subs({a: sp.pi, b: 2})\n",
    "sub2 = vyraz2.subs({a: sp.pi, b: 2})\n",
    "\n",
    "print(sub1.evalf(n=10))\n",
    "print(sub2.evalf(n=10))"
   ]
  },
  {
   "cell_type": "markdown",
   "metadata": {},
   "source": [
    "\n",
    "3. Úpravy výrazů\n",
    "   - Vypište výraz $(a + b)^5$ pomocí jednotlivých mnohočlnů (expandujte).\n",
    "   - Faktorizujte výraz $a^6 - b^6$.\n",
    "   - Zjednodušte výraz $\\sin^{6}{\\left(a + b \\right)} + 3 \\sin^{4}{\\left(a + b \\right)} \\cos^{2}{\\left(a + b \\right)} + 3 \\sin^{2}{\\left(a + b \\right)} \\cos^{4}{\\left(a + b \\right)} + \\cos^{6}{\\left(a + b \\right)}$\n",
    "\n"
   ]
  },
  {
   "cell_type": "code",
   "execution_count": 29,
   "metadata": {},
   "outputs": [
    {
     "data": {
      "image/png": "[encoded data removed]",
      "text/latex": [
       "$\\displaystyle a^{5} + 5 a^{4} b + 10 a^{3} b^{2} + 10 a^{2} b^{3} + 5 a b^{4} + b^{5}$"
      ],
      "text/plain": [
       " 5      4         3  2       2  3        4    5\n",
       "a  + 5⋅a ⋅b + 10⋅a ⋅b  + 10⋅a ⋅b  + 5⋅a⋅b  + b "
      ]
     },
     "metadata": {},
     "output_type": "display_data"
    },
    {
     "data": {
      "image/png": "[encoded data removed]",
      "text/latex": [
       "$\\displaystyle \\left(a - b\\right) \\left(a + b\\right) \\left(a^{2} - a b + b^{2}\\right) \\left(a^{2} + a b + b^{2}\\right)$"
      ],
      "text/plain": [
       "                ⎛ 2          2⎞ ⎛ 2          2⎞\n",
       "(a - b)⋅(a + b)⋅⎝a  - a⋅b + b ⎠⋅⎝a  + a⋅b + b ⎠"
      ]
     },
     "metadata": {},
     "output_type": "display_data"
    },
    {
     "data": {
      "image/png": "[encoded data removed]",
      "text/latex": [
       "$\\displaystyle 1$"
      ],
      "text/plain": [
       "1"
      ]
     },
     "metadata": {},
     "output_type": "display_data"
    }
   ],
   "source": [
    "vyraz3 = (a + b)**5\n",
    "display(vyraz3.expand())\n",
    "\n",
    "vyraz4 = a**6 - b**6\n",
    "display(vyraz4.factor())\n",
    "\n",
    "apb = a+b\n",
    "vyraz5 = sp.sin(apb)**6 + 3*sp.sin(apb)**4 * sp.cos(apb)**2 + 3*sp.sin(apb)**2 * sp.cos(apb)**4 + sp.cos(apb)**6\n",
    "display(vyraz5.simplify())"
   ]
  },
  {
   "cell_type": "markdown",
   "metadata": {},
   "source": [
    "4. Derivace a Integrace\n",
    "   - Najděte derivaci výrazu $a^2 + 3ab + b^2$ podle `a`.\n",
    "   - Spočtěte $$ \\intop_{-\\infty}^{t} e^{-x^2} dx$$\n",
    "   - Spočtěte integrál funkce $f(x) = 1-x-y$ přes pravoúhlý trojuhelník s vrcholy $[0, 0]$, $[1, 0]$, $[0, 1]$; tedy $$ \\intop_{0}^{1} \\intop_{0}^{1-y} 1-x-y ~~ dx dy$$\n"
   ]
  },
  {
   "cell_type": "code",
   "execution_count": 39,
   "metadata": {},
   "outputs": [
    {
     "data": {
      "image/png": "[encoded data removed]",
      "text/latex": [
       "$\\displaystyle 2 a + 3 b$"
      ],
      "text/plain": [
       "2⋅a + 3⋅b"
      ]
     },
     "metadata": {},
     "output_type": "display_data"
    },
    {
     "data": {
      "text/latex": [
       "$\\displaystyle \\begin{cases} \\frac{\\sqrt{\\pi} \\sqrt{y} \\left(2 - \\operatorname{erfc}{\\left(\\frac{t}{\\sqrt{y}} \\right)}\\right)}{2} & \\text{for}\\: \\left(\\left|{\\arg{\\left(y \\right)}}\\right| \\leq \\frac{\\pi}{2} \\wedge \\left|{2 \\arg{\\left(t \\right)} - 2 \\arg{\\left(y \\right)} + 2 \\pi}\\right| < \\pi\\right) \\vee \\left(\\left|{2 \\arg{\\left(t \\right)} - 2 \\arg{\\left(y \\right)} + 2 \\pi}\\right| \\leq \\pi \\wedge \\left|{\\arg{\\left(y \\right)}}\\right| < \\frac{\\pi}{2}\\right) \\vee \\left(\\left|{2 \\arg{\\left(t \\right)} - 2 \\arg{\\left(y \\right)} + 2 \\pi}\\right| < \\pi \\wedge \\left|{\\arg{\\left(y \\right)}}\\right| < \\frac{\\pi}{2}\\right) \\vee \\left|{\\arg{\\left(y \\right)}}\\right| < \\frac{\\pi}{2} \\\\\\int\\limits_{-\\infty}^{t} e^{- \\frac{x^{2}}{y}}\\, dx & \\text{otherwise} \\end{cases}$"
      ],
      "text/plain": [
       "⎧      ⎛        ⎛t ⎞⎞                                                         \n",
       "⎪√π⋅√y⋅⎜2 - erfc⎜──⎟⎟                                                         \n",
       "⎪      ⎝        ⎝√y⎠⎠      ⎛           π                                  ⎞   \n",
       "⎪────────────────────  for ⎜│arg(y)│ ≤ ─ ∧ │2⋅arg(t) - 2⋅arg(y) + 2⋅π│ < π⎟ ∨ \n",
       "⎪         2                ⎝           2                                  ⎠   \n",
       "⎪                                                                             \n",
       "⎪    t                                                                        \n",
       "⎨    ⌠                                                                        \n",
       "⎪    ⎮     2                                                                  \n",
       "⎪    ⎮   -x                                                                   \n",
       "⎪    ⎮   ────                                                                 \n",
       "⎪    ⎮    y                                                                   \n",
       "⎪    ⎮  ℯ     dx                                                              \n",
       "⎪    ⌡                                                                        \n",
       "⎩    -∞                                                                       \n",
       "\n",
       "                                                                              \n",
       "                                                                              \n",
       "⎛                                             π⎞   ⎛                          \n",
       "⎜│2⋅arg(t) - 2⋅arg(y) + 2⋅π│ ≤ π ∧ │arg(y)│ < ─⎟ ∨ ⎜│2⋅arg(t) - 2⋅arg(y) + 2⋅π\n",
       "⎝                                             2⎠   ⎝                          \n",
       "                                                                              \n",
       "                                                                              \n",
       "                                                                              \n",
       "                                                                              \n",
       "                                                                              \n",
       "                                                                              \n",
       "                                                                              \n",
       "                         otherwise                                            \n",
       "                                                                              \n",
       "                                                                              \n",
       "\n",
       "                                    \n",
       "                                    \n",
       "                   π⎞              π\n",
       "│ < π ∧ │arg(y)│ < ─⎟ ∨ │arg(y)│ < ─\n",
       "                   2⎠              2\n",
       "                                    \n",
       "                                    \n",
       "                                    \n",
       "                                    \n",
       "                                    \n",
       "                                    \n",
       "                                    \n",
       "                                    \n",
       "                                    \n",
       "                                    "
      ]
     },
     "metadata": {},
     "output_type": "display_data"
    },
    {
     "data": {
      "image/png": "[encoded data removed]",
      "text/latex": [
       "$\\displaystyle \\frac{1}{6}$"
      ],
      "text/plain": [
       "1/6"
      ]
     },
     "metadata": {},
     "output_type": "display_data"
    }
   ],
   "source": [
    "vyraz6 = a**2 + 3*a*b + b**2\n",
    "display(vyraz6.diff(a))\n",
    "\n",
    "x, y, t = sp.symbols(\"x y t\", real=True)\n",
    "vyraz7 = sp.E ** (-x**2/y)\n",
    "display(sp.integrate(vyraz7, (x, -sp.oo, t)))\n",
    "\n",
    "vyraz8 = 1-x-y\n",
    "display(sp.integrate(sp.integrate(vyraz8, (x, 0, 1-y)), (y, 0, 1)))"
   ]
  },
  {
   "cell_type": "markdown",
   "metadata": {},
   "source": [
    "5. Řešení Rovnic\n",
    "    - Najděte řešení rovnice $a^2 - 5a + 6 = 0$ vzhledem k `a`.\n",
    "    - Najděte řešení soustavy rovnic $$ a + b = 5 $$ $$ a - b = 1 $$ vzhledem k `a` a `b`.\n",
    "    - Nalezněte všechny kořeny Legendrova polynomu stupně 5. Použíjte `sympy.legendre()` pro vytvoření výrazu odpovídajícímu Legendrovu polynomu.\n",
    "    "
   ]
  },
  {
   "cell_type": "code",
   "execution_count": 58,
   "metadata": {},
   "outputs": [
    {
     "data": {
      "image/png": "[encoded data removed]",
      "text/latex": [
       "$\\displaystyle \\left[ 3 - \\sqrt{2}, \\  \\sqrt{2} + 3\\right]$"
      ],
      "text/plain": [
       "[3 - √2, √2 + 3]"
      ]
     },
     "metadata": {},
     "output_type": "display_data"
    },
    {
     "data": {
      "image/png": "[encoded data removed]",
      "text/latex": [
       "$\\displaystyle \\left\\{ a : 3, \\  b : 2\\right\\}$"
      ],
      "text/plain": [
       "{a: 3, b: 2}"
      ]
     },
     "metadata": {},
     "output_type": "display_data"
    },
    {
     "data": {
      "image/png": "[encoded data removed]",
      "text/latex": [
       "$\\displaystyle \\frac{63 x^{5}}{8} - \\frac{35 x^{3}}{4} + \\frac{15 x}{8}$"
      ],
      "text/plain": [
       "    5       3       \n",
       "63⋅x    35⋅x    15⋅x\n",
       "───── - ───── + ────\n",
       "  8       4      8  "
      ]
     },
     "metadata": {},
     "output_type": "display_data"
    },
    {
     "data": {
      "image/png": "[encoded data removed]",
      "text/latex": [
       "$\\displaystyle \\left[ 0, \\  - \\sqrt{\\frac{5}{9} - \\frac{2 \\sqrt{70}}{63}}, \\  \\sqrt{\\frac{5}{9} - \\frac{2 \\sqrt{70}}{63}}, \\  - \\sqrt{\\frac{2 \\sqrt{70}}{63} + \\frac{5}{9}}, \\  \\sqrt{\\frac{2 \\sqrt{70}}{63} + \\frac{5}{9}}\\right]$"
      ],
      "text/plain": [
       "⎡        ___________      ___________       ___________      ___________⎤\n",
       "⎢       ╱ 5   2⋅√70      ╱ 5   2⋅√70       ╱ 2⋅√70   5      ╱ 2⋅√70   5 ⎥\n",
       "⎢0, -  ╱  ─ - ───── ,   ╱  ─ - ───── , -  ╱  ───── + ─ ,   ╱  ───── + ─ ⎥\n",
       "⎣    ╲╱   9     63    ╲╱   9     63     ╲╱     63    9   ╲╱     63    9 ⎦"
      ]
     },
     "metadata": {},
     "output_type": "display_data"
    }
   ],
   "source": [
    "rovnice1 = sp.Eq(a**2 - 6*a + 7, 0)\n",
    "display(sp.solve(rovnice1, a))\n",
    "\n",
    "rovnice2_1 = sp.Eq(a+b, 5)\n",
    "rovnice2_2 = sp.Eq(a-b, 1)\n",
    "display(sp.solve((rovnice2_1, rovnice2_2), (a, b)))\n",
    "\n",
    "legenda = sp.legendre(5, x)\n",
    "display(legenda)\n",
    "display(sp.solve(legenda, x))"
   ]
  },
  {
   "cell_type": "markdown",
   "metadata": {},
   "source": [
    "6. Generování kódu\n",
    "    - Vytvořte výraz $\\sin(a) + \\cos(b)$, vygenerujte Pythoní funkci a vykreslete pomocí matplotlib na oblasti $a \\in [0, 2\\pi]$ a $b \\in [0, 2\\pi]$."
   ]
  },
  {
   "cell_type": "code",
   "execution_count": 67,
   "metadata": {},
   "outputs": [
    {
     "data": {
      "text/plain": [
       "<matplotlib.colorbar.Colorbar at 0x7fa0a318e710>"
      ]
     },
     "execution_count": 67,
     "metadata": {},
     "output_type": "execute_result"
    },
    {
     "data": {
      "image/png": "[encoded data removed]",
      "text/plain": [
       "<Figure size 432x288 with 2 Axes>"
      ]
     },
     "metadata": {
      "needs_background": "light"
     },
     "output_type": "display_data"
    }
   ],
   "source": [
    "vyraz9 = sp.sin(a) + sp.sin(b)\n",
    "fce = sp.lambdify([a, b], vyraz9)\n",
    "\n",
    "import numpy as np\n",
    "import matplotlib.pyplot as plt\n",
    "\n",
    "acka = np.linspace(0, 2*np.pi, 100)\n",
    "bcka = np.linspace(0, 2*np.pi, 100)\n",
    "A, B = np.meshgrid(acka, bcka)\n",
    "vysledky = fce(A, B)\n",
    "plt.imshow(vysledky)\n",
    "plt.colorbar()"
   ]
  },
  {
   "cell_type": "markdown",
   "metadata": {},
   "source": [
    "## Pandas\n",
    "1. Pomocí Pandas načtěte data ze souboru `aku.csv` zkontrolujte si zprávnost vypsáním prvních šesti řádků.\n",
    "2. Vypište základní statistiky pro každý sloupec.\n",
    "3. Vykreslete histogramy pomocí `seaborn` pro aloupce `A5` a `A100`."
   ]
  },
  {
   "cell_type": "code",
   "execution_count": 84,
   "metadata": {},
   "outputs": [
    {
     "data": {
      "text/html": [
       "<div>\n",
       "<style scoped>\n",
       "    .dataframe tbody tr th:only-of-type {\n",
       "        vertical-align: middle;\n",
       "    }\n",
       "\n",
       "    .dataframe tbody tr th {\n",
       "        vertical-align: top;\n",
       "    }\n",
       "\n",
       "    .dataframe thead th {\n",
       "        text-align: right;\n",
       "    }\n",
       "</style>\n",
       "<table border=\"1\" class=\"dataframe\">\n",
       "  <thead>\n",
       "    <tr style=\"text-align: right;\">\n",
       "      <th></th>\n",
       "      <th>A5</th>\n",
       "      <th>B5</th>\n",
       "      <th>C5</th>\n",
       "      <th>D5</th>\n",
       "      <th>A100</th>\n",
       "      <th>B100</th>\n",
       "      <th>C100</th>\n",
       "      <th>D100</th>\n",
       "    </tr>\n",
       "  </thead>\n",
       "  <tbody>\n",
       "    <tr>\n",
       "      <th>0</th>\n",
       "      <td>1946.5</td>\n",
       "      <td>2006.5</td>\n",
       "      <td>1881.8</td>\n",
       "      <td>1806.9</td>\n",
       "      <td>1780.4</td>\n",
       "      <td>1654.2</td>\n",
       "      <td>1663.3</td>\n",
       "      <td>1668.4</td>\n",
       "    </tr>\n",
       "    <tr>\n",
       "      <th>1</th>\n",
       "      <td>1963.5</td>\n",
       "      <td>1991.5</td>\n",
       "      <td>1890.4</td>\n",
       "      <td>1788.1</td>\n",
       "      <td>1751.4</td>\n",
       "      <td>1663.1</td>\n",
       "      <td>1641.1</td>\n",
       "      <td>1641.9</td>\n",
       "    </tr>\n",
       "    <tr>\n",
       "      <th>2</th>\n",
       "      <td>1934.3</td>\n",
       "      <td>1988.8</td>\n",
       "      <td>1865.7</td>\n",
       "      <td>1775.0</td>\n",
       "      <td>1743.5</td>\n",
       "      <td>1633.3</td>\n",
       "      <td>1621.5</td>\n",
       "      <td>1620.0</td>\n",
       "    </tr>\n",
       "    <tr>\n",
       "      <th>3</th>\n",
       "      <td>1934.8</td>\n",
       "      <td>1975.4</td>\n",
       "      <td>1880.7</td>\n",
       "      <td>1805.4</td>\n",
       "      <td>1727.4</td>\n",
       "      <td>1642.2</td>\n",
       "      <td>1610.7</td>\n",
       "      <td>1685.8</td>\n",
       "    </tr>\n",
       "    <tr>\n",
       "      <th>4</th>\n",
       "      <td>1939.9</td>\n",
       "      <td>1998.4</td>\n",
       "      <td>1861.1</td>\n",
       "      <td>1775.7</td>\n",
       "      <td>1728.8</td>\n",
       "      <td>1656.7</td>\n",
       "      <td>1624.6</td>\n",
       "      <td>1610.5</td>\n",
       "    </tr>\n",
       "  </tbody>\n",
       "</table>\n",
       "</div>"
      ],
      "text/plain": [
       "       A5      B5      C5      D5    A100    B100    C100    D100\n",
       "0  1946.5  2006.5  1881.8  1806.9  1780.4  1654.2  1663.3  1668.4\n",
       "1  1963.5  1991.5  1890.4  1788.1  1751.4  1663.1  1641.1  1641.9\n",
       "2  1934.3  1988.8  1865.7  1775.0  1743.5  1633.3  1621.5  1620.0\n",
       "3  1934.8  1975.4  1880.7  1805.4  1727.4  1642.2  1610.7  1685.8\n",
       "4  1939.9  1998.4  1861.1  1775.7  1728.8  1656.7  1624.6  1610.5"
      ]
     },
     "execution_count": 84,
     "metadata": {},
     "output_type": "execute_result"
    }
   ],
   "source": [
    "import pandas as pandi_tlumocnik\n",
    "\n",
    "data = pandi_tlumocnik.read_csv('aku.csv', delimiter=\";\", decimal=\",\")\n",
    "data.head()"
   ]
  },
  {
   "cell_type": "code",
   "execution_count": 78,
   "metadata": {},
   "outputs": [
    {
     "data": {
      "text/html": [
       "<div>\n",
       "<style scoped>\n",
       "    .dataframe tbody tr th:only-of-type {\n",
       "        vertical-align: middle;\n",
       "    }\n",
       "\n",
       "    .dataframe tbody tr th {\n",
       "        vertical-align: top;\n",
       "    }\n",
       "\n",
       "    .dataframe thead th {\n",
       "        text-align: right;\n",
       "    }\n",
       "</style>\n",
       "<table border=\"1\" class=\"dataframe\">\n",
       "  <thead>\n",
       "    <tr style=\"text-align: right;\">\n",
       "      <th></th>\n",
       "      <th>A5</th>\n",
       "      <th>B5</th>\n",
       "      <th>C5</th>\n",
       "      <th>D5</th>\n",
       "      <th>A100</th>\n",
       "      <th>B100</th>\n",
       "      <th>C100</th>\n",
       "      <th>D100</th>\n",
       "    </tr>\n",
       "  </thead>\n",
       "  <tbody>\n",
       "    <tr>\n",
       "      <th>count</th>\n",
       "      <td>86.000000</td>\n",
       "      <td>86.000000</td>\n",
       "      <td>70.000000</td>\n",
       "      <td>79.000000</td>\n",
       "      <td>86.000000</td>\n",
       "      <td>86.000000</td>\n",
       "      <td>70.000000</td>\n",
       "      <td>79.000000</td>\n",
       "    </tr>\n",
       "    <tr>\n",
       "      <th>mean</th>\n",
       "      <td>1949.717442</td>\n",
       "      <td>2000.781395</td>\n",
       "      <td>1899.395714</td>\n",
       "      <td>1797.044304</td>\n",
       "      <td>1753.925581</td>\n",
       "      <td>1651.572093</td>\n",
       "      <td>1650.200000</td>\n",
       "      <td>1650.397468</td>\n",
       "    </tr>\n",
       "    <tr>\n",
       "      <th>std</th>\n",
       "      <td>28.874190</td>\n",
       "      <td>11.541154</td>\n",
       "      <td>20.233968</td>\n",
       "      <td>34.725789</td>\n",
       "      <td>34.636503</td>\n",
       "      <td>15.284076</td>\n",
       "      <td>29.340949</td>\n",
       "      <td>38.490335</td>\n",
       "    </tr>\n",
       "    <tr>\n",
       "      <th>min</th>\n",
       "      <td>1884.400000</td>\n",
       "      <td>1974.100000</td>\n",
       "      <td>1848.400000</td>\n",
       "      <td>1650.300000</td>\n",
       "      <td>1684.600000</td>\n",
       "      <td>1615.700000</td>\n",
       "      <td>1593.700000</td>\n",
       "      <td>1558.500000</td>\n",
       "    </tr>\n",
       "    <tr>\n",
       "      <th>25%</th>\n",
       "      <td>1931.825000</td>\n",
       "      <td>1994.175000</td>\n",
       "      <td>1887.075000</td>\n",
       "      <td>1775.900000</td>\n",
       "      <td>1726.950000</td>\n",
       "      <td>1642.125000</td>\n",
       "      <td>1628.700000</td>\n",
       "      <td>1626.600000</td>\n",
       "    </tr>\n",
       "    <tr>\n",
       "      <th>50%</th>\n",
       "      <td>1948.900000</td>\n",
       "      <td>2001.200000</td>\n",
       "      <td>1898.900000</td>\n",
       "      <td>1793.400000</td>\n",
       "      <td>1756.800000</td>\n",
       "      <td>1653.400000</td>\n",
       "      <td>1652.650000</td>\n",
       "      <td>1644.000000</td>\n",
       "    </tr>\n",
       "    <tr>\n",
       "      <th>75%</th>\n",
       "      <td>1966.100000</td>\n",
       "      <td>2009.850000</td>\n",
       "      <td>1911.550000</td>\n",
       "      <td>1820.150000</td>\n",
       "      <td>1780.000000</td>\n",
       "      <td>1663.400000</td>\n",
       "      <td>1667.500000</td>\n",
       "      <td>1683.050000</td>\n",
       "    </tr>\n",
       "    <tr>\n",
       "      <th>max</th>\n",
       "      <td>2030.000000</td>\n",
       "      <td>2030.900000</td>\n",
       "      <td>1942.500000</td>\n",
       "      <td>1872.200000</td>\n",
       "      <td>1838.700000</td>\n",
       "      <td>1680.700000</td>\n",
       "      <td>1713.600000</td>\n",
       "      <td>1725.700000</td>\n",
       "    </tr>\n",
       "  </tbody>\n",
       "</table>\n",
       "</div>"
      ],
      "text/plain": [
       "                A5           B5           C5           D5         A100  \\\n",
       "count    86.000000    86.000000    70.000000    79.000000    86.000000   \n",
       "mean   1949.717442  2000.781395  1899.395714  1797.044304  1753.925581   \n",
       "std      28.874190    11.541154    20.233968    34.725789    34.636503   \n",
       "min    1884.400000  1974.100000  1848.400000  1650.300000  1684.600000   \n",
       "25%    1931.825000  1994.175000  1887.075000  1775.900000  1726.950000   \n",
       "50%    1948.900000  2001.200000  1898.900000  1793.400000  1756.800000   \n",
       "75%    1966.100000  2009.850000  1911.550000  1820.150000  1780.000000   \n",
       "max    2030.000000  2030.900000  1942.500000  1872.200000  1838.700000   \n",
       "\n",
       "              B100         C100         D100  \n",
       "count    86.000000    70.000000    79.000000  \n",
       "mean   1651.572093  1650.200000  1650.397468  \n",
       "std      15.284076    29.340949    38.490335  \n",
       "min    1615.700000  1593.700000  1558.500000  \n",
       "25%    1642.125000  1628.700000  1626.600000  \n",
       "50%    1653.400000  1652.650000  1644.000000  \n",
       "75%    1663.400000  1667.500000  1683.050000  \n",
       "max    1680.700000  1713.600000  1725.700000  "
      ]
     },
     "execution_count": 78,
     "metadata": {},
     "output_type": "execute_result"
    }
   ],
   "source": [
    "data.describe()\n"
   ]
  },
  {
   "cell_type": "code",
   "execution_count": 82,
   "metadata": {},
   "outputs": [
    {
     "data": {
      "text/plain": [
       "<AxesSubplot:xlabel='A5', ylabel='Count'>"
      ]
     },
     "execution_count": 82,
     "metadata": {},
     "output_type": "execute_result"
    },
    {
     "data": {
      "image/png": "[encoded data removed]",
      "text/plain": [
       "<Figure size 432x288 with 1 Axes>"
      ]
     },
     "metadata": {
      "needs_background": "light"
     },
     "output_type": "display_data"
    }
   ],
   "source": [
    "import seaborn as sea\n",
    "\n",
    "sea.histplot(data, x='A5')"
   ]
  },
  {
   "cell_type": "code",
   "execution_count": 83,
   "metadata": {},
   "outputs": [
    {
     "data": {
      "text/plain": [
       "<AxesSubplot:xlabel='A100', ylabel='Count'>"
      ]
     },
     "execution_count": 83,
     "metadata": {},
     "output_type": "execute_result"
    },
    {
     "data": {
      "image/png": "[encoded data removed]",
      "text/plain": [
       "<Figure size 432x288 with 1 Axes>"
      ]
     },
     "metadata": {
      "needs_background": "light"
     },
     "output_type": "display_data"
    }
   ],
   "source": [
    "sea.histplot(data, x=\"A100\")"
   ]
  }
 ],
 "metadata": {
  "kernelspec": {
   "display_name": "Python 3",
   "language": "python",
   "name": "python3"
  },
  "language_info": {
   "codemirror_mode": {
    "name": "ipython",
    "version": 3
   },
   "file_extension": ".py",
   "mimetype": "text/x-python",
   "name": "python",
   "nbconvert_exporter": "python",
   "pygments_lexer": "ipython3",
   "version": "3.10.12"
  },
  "orig_nbformat": 4
 },
 "nbformat": 4,
 "nbformat_minor": 2
}
